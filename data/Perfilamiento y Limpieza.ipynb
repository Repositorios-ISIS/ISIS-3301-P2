{
 "cells": [
  {
   "cell_type": "markdown",
   "metadata": {},
   "source": [
    "![](/banner.png)"
   ]
  },
  {
   "cell_type": "markdown",
   "metadata": {},
   "source": [
    "![](banner.png)\n",
    "# Objetivos\n",
    "+ Cargar los datos de una base de datos oltp y realizar limpieza\n",
    "+ Perfilar los datos recibidos\n",
    "+ Conseguir un conjunto de datos relacionado con toda la información a excluyendo municipio\n",
    "+ Conseguir un conjunto de datos relacionado únicamente con los totales por municipio en cada año\n",
    "\n",
    "# Carga de librerias"
   ]
  },
  {
   "cell_type": "code",
   "execution_count": 1,
   "metadata": {},
   "outputs": [],
   "source": [
    "#Librerias para trabajar los datos\n",
    "import pandas as pd\n",
    "import numpy as np\n",
    "\n",
    "#Librerias para visualizar los datos\n",
    "import matplotlib.pyplot as plt\n",
    "import seaborn as sns\n",
    "\n",
    "#Otras\n",
    "import math"
   ]
  },
  {
   "cell_type": "markdown",
   "metadata": {},
   "source": [
    "# Carga de datos"
   ]
  },
  {
   "cell_type": "code",
   "execution_count": 2,
   "metadata": {},
   "outputs": [],
   "source": [
    "#Carga de los datos principales\n",
    "df_main = pd.read_csv('data_2010_2017.csv',sep=',',index_col=False,low_memory=False)\n",
    "#Carga de información adicional de latitudes y longitudes de departamentos\n",
    "df_depto = pd.read_csv('colombia_depto.csv',sep=',', header=None, encoding='utf8') \n",
    "df_depto.columns = [\"codigo_depto\",\"nombre_depto\",\"lati_depto\", \"long_depto\"]\n",
    "#Carga de información adicional del # de población por depto\n",
    "df_poblacion_depto = pd.read_csv('poblacion_deptos.csv',sep=',',index_col=False)\n",
    "#Carga de información adicional del # de población por año, edad y sexo\n",
    "df_poblacion_datos = pd.read_csv('poblacion_datos.csv',sep=';',index_col=False, encoding='latin-1')"
   ]
  },
  {
   "cell_type": "code",
   "execution_count": 3,
   "metadata": {},
   "outputs": [
    {
     "data": {
      "text/html": [
       "<div>\n",
       "<style scoped>\n",
       "    .dataframe tbody tr th:only-of-type {\n",
       "        vertical-align: middle;\n",
       "    }\n",
       "\n",
       "    .dataframe tbody tr th {\n",
       "        vertical-align: top;\n",
       "    }\n",
       "\n",
       "    .dataframe thead th {\n",
       "        text-align: right;\n",
       "    }\n",
       "</style>\n",
       "<table border=\"1\" class=\"dataframe\">\n",
       "  <thead>\n",
       "    <tr style=\"text-align: right;\">\n",
       "      <th></th>\n",
       "      <th>anio</th>\n",
       "      <th>codigo_depto</th>\n",
       "      <th>nombre_depto</th>\n",
       "      <th>nombre_muni</th>\n",
       "      <th>codigo_muni</th>\n",
       "      <th>codigo_evento</th>\n",
       "      <th>evento</th>\n",
       "      <th>edad</th>\n",
       "      <th>sexo</th>\n",
       "      <th>num_casos</th>\n",
       "    </tr>\n",
       "  </thead>\n",
       "  <tbody>\n",
       "    <tr>\n",
       "      <th>0</th>\n",
       "      <td>2010</td>\n",
       "      <td>TOTAL</td>\n",
       "      <td>TOTAL</td>\n",
       "      <td>TOTAL</td>\n",
       "      <td>TOTAL</td>\n",
       "      <td>TOTAL</td>\n",
       "      <td>TOTAL</td>\n",
       "      <td>TOTAL</td>\n",
       "      <td>TOTAL</td>\n",
       "      <td>200524.0</td>\n",
       "    </tr>\n",
       "    <tr>\n",
       "      <th>1</th>\n",
       "      <td>2010</td>\n",
       "      <td>TOTAL</td>\n",
       "      <td>TOTAL</td>\n",
       "      <td>TOTAL</td>\n",
       "      <td>TOTAL</td>\n",
       "      <td>TOTAL</td>\n",
       "      <td>TOTAL</td>\n",
       "      <td>TOTAL</td>\n",
       "      <td>Hombres</td>\n",
       "      <td>114264.0</td>\n",
       "    </tr>\n",
       "    <tr>\n",
       "      <th>2</th>\n",
       "      <td>2010</td>\n",
       "      <td>TOTAL</td>\n",
       "      <td>TOTAL</td>\n",
       "      <td>TOTAL</td>\n",
       "      <td>TOTAL</td>\n",
       "      <td>TOTAL</td>\n",
       "      <td>TOTAL</td>\n",
       "      <td>TOTAL</td>\n",
       "      <td>Mujeres</td>\n",
       "      <td>86250.0</td>\n",
       "    </tr>\n",
       "    <tr>\n",
       "      <th>3</th>\n",
       "      <td>2010</td>\n",
       "      <td>TOTAL</td>\n",
       "      <td>TOTAL</td>\n",
       "      <td>TOTAL</td>\n",
       "      <td>TOTAL</td>\n",
       "      <td>TOTAL</td>\n",
       "      <td>TOTAL</td>\n",
       "      <td>TOTAL</td>\n",
       "      <td>Indeterminado</td>\n",
       "      <td>10.0</td>\n",
       "    </tr>\n",
       "    <tr>\n",
       "      <th>4</th>\n",
       "      <td>2010</td>\n",
       "      <td>TOTAL</td>\n",
       "      <td>TOTAL</td>\n",
       "      <td>TOTAL</td>\n",
       "      <td>TOTAL</td>\n",
       "      <td>TOTAL</td>\n",
       "      <td>TOTAL</td>\n",
       "      <td>Menor 1 año</td>\n",
       "      <td>Hombres</td>\n",
       "      <td>4745.0</td>\n",
       "    </tr>\n",
       "  </tbody>\n",
       "</table>\n",
       "</div>"
      ],
      "text/plain": [
       "   anio codigo_depto nombre_depto nombre_muni codigo_muni codigo_evento  \\\n",
       "0  2010        TOTAL        TOTAL       TOTAL       TOTAL         TOTAL   \n",
       "1  2010        TOTAL        TOTAL       TOTAL       TOTAL         TOTAL   \n",
       "2  2010        TOTAL        TOTAL       TOTAL       TOTAL         TOTAL   \n",
       "3  2010        TOTAL        TOTAL       TOTAL       TOTAL         TOTAL   \n",
       "4  2010        TOTAL        TOTAL       TOTAL       TOTAL         TOTAL   \n",
       "\n",
       "  evento         edad           sexo  num_casos  \n",
       "0  TOTAL        TOTAL          TOTAL   200524.0  \n",
       "1  TOTAL        TOTAL        Hombres   114264.0  \n",
       "2  TOTAL        TOTAL        Mujeres    86250.0  \n",
       "3  TOTAL        TOTAL  Indeterminado       10.0  \n",
       "4  TOTAL  Menor 1 año        Hombres     4745.0  "
      ]
     },
     "execution_count": 3,
     "metadata": {},
     "output_type": "execute_result"
    }
   ],
   "source": [
    "df_main.head()"
   ]
  },
  {
   "cell_type": "markdown",
   "metadata": {},
   "source": [
    "# Limpieza\n",
    "## Datos principales\n",
    "En principio vamos a eliminar los elementos que calculan totales en el dataframe para que todas las filas representen lo mismo"
   ]
  },
  {
   "cell_type": "code",
   "execution_count": 4,
   "metadata": {},
   "outputs": [],
   "source": [
    "df_main = df_main.drop(df_main[df_main['codigo_depto']=='TOTAL'].index)\n",
    "df_main = df_main.drop(df_main[df_main['nombre_depto']=='TOTAL'].index)\n",
    "df_main = df_main.drop(df_main[df_main['nombre_muni']=='TOTAL'].index)\n",
    "df_main = df_main.drop(df_main[df_main['codigo_muni']=='TOTAL'].index)\n",
    "df_main = df_main.drop(df_main[df_main['codigo_evento']=='TOTAL'].index)\n",
    "df_main = df_main.drop(df_main[df_main['evento']=='TOTAL'].index)\n",
    "df_main = df_main.drop(df_main[df_main['edad']=='TOTAL'].index)\n",
    "df_main = df_main.drop(df_main[df_main['sexo']=='TOTAL'].index)"
   ]
  },
  {
   "cell_type": "markdown",
   "metadata": {},
   "source": [
    "Luego revisamos los tipos de datos y transformamos lo que sea necesario"
   ]
  },
  {
   "cell_type": "code",
   "execution_count": 5,
   "metadata": {
    "scrolled": true
   },
   "outputs": [
    {
     "name": "stdout",
     "output_type": "stream",
     "text": [
      "<class 'pandas.core.frame.DataFrame'>\n",
      "Int64Index: 464634 entries, 1750 to 1244983\n",
      "Data columns (total 10 columns):\n",
      " #   Column         Non-Null Count   Dtype  \n",
      "---  ------         --------------   -----  \n",
      " 0   anio           464634 non-null  int64  \n",
      " 1   codigo_depto   464634 non-null  object \n",
      " 2   nombre_depto   464634 non-null  object \n",
      " 3   nombre_muni    464634 non-null  object \n",
      " 4   codigo_muni    464634 non-null  object \n",
      " 5   codigo_evento  464634 non-null  object \n",
      " 6   evento         464634 non-null  object \n",
      " 7   edad           464634 non-null  object \n",
      " 8   sexo           464634 non-null  object \n",
      " 9   num_casos      464634 non-null  float64\n",
      "dtypes: float64(1), int64(1), object(8)\n",
      "memory usage: 55.1+ MB\n"
     ]
    }
   ],
   "source": [
    "df_main.info()"
   ]
  },
  {
   "cell_type": "code",
   "execution_count": 6,
   "metadata": {},
   "outputs": [
    {
     "name": "stdout",
     "output_type": "stream",
     "text": [
      "error in value codigo_depto invalid literal for int() with base 10: 'Extranjeros'\n"
     ]
    }
   ],
   "source": [
    "def arreglar_tipos(v_types:dict) -> None:\n",
    "    for value in v_types:\n",
    "        try:\n",
    "            df_main[value] = df_main[value].astype(v_types[value])\n",
    "        except Exception as e:\n",
    "            print(f'error in value {value}',str(e))\n",
    "        \n",
    "value_types = {'anio':'int64','codigo_depto':'int64','nombre_depto':'string',\n",
    "               'nombre_muni':'string','codigo_muni':'int64','codigo_evento':'int64',\n",
    "               'evento':'string','sexo':'string','edad':'string','num_casos':'int64'\n",
    "              }\n",
    "\n",
    "arreglar_tipos(value_types)"
   ]
  },
  {
   "cell_type": "markdown",
   "metadata": {},
   "source": [
    "Vemos que en la columna codigo_depto hay un elemento llamado 'Extranjeros', asi que lo vamos a cambiar por el código 100"
   ]
  },
  {
   "cell_type": "code",
   "execution_count": 7,
   "metadata": {},
   "outputs": [],
   "source": [
    "df_main['codigo_depto'] = df_main['codigo_depto'].apply(lambda x : 100 if x == 'Extranjeros' else x)"
   ]
  },
  {
   "cell_type": "markdown",
   "metadata": {},
   "source": [
    "Volvemos a intentar"
   ]
  },
  {
   "cell_type": "code",
   "execution_count": 8,
   "metadata": {},
   "outputs": [],
   "source": [
    "arreglar_tipos(value_types)"
   ]
  },
  {
   "cell_type": "markdown",
   "metadata": {},
   "source": [
    "Todo correcto"
   ]
  },
  {
   "cell_type": "markdown",
   "metadata": {},
   "source": [
    "## Datos de departamento"
   ]
  },
  {
   "cell_type": "code",
   "execution_count": 9,
   "metadata": {
    "scrolled": true
   },
   "outputs": [
    {
     "data": {
      "text/html": [
       "<div>\n",
       "<style scoped>\n",
       "    .dataframe tbody tr th:only-of-type {\n",
       "        vertical-align: middle;\n",
       "    }\n",
       "\n",
       "    .dataframe tbody tr th {\n",
       "        vertical-align: top;\n",
       "    }\n",
       "\n",
       "    .dataframe thead th {\n",
       "        text-align: right;\n",
       "    }\n",
       "</style>\n",
       "<table border=\"1\" class=\"dataframe\">\n",
       "  <thead>\n",
       "    <tr style=\"text-align: right;\">\n",
       "      <th></th>\n",
       "      <th>codigo_depto</th>\n",
       "      <th>nombre_depto</th>\n",
       "      <th>lati_depto</th>\n",
       "      <th>long_depto</th>\n",
       "    </tr>\n",
       "  </thead>\n",
       "  <tbody>\n",
       "    <tr>\n",
       "      <th>0</th>\n",
       "      <td>91</td>\n",
       "      <td>Amazonas</td>\n",
       "      <td>-1.019722</td>\n",
       "      <td>-71.938333</td>\n",
       "    </tr>\n",
       "    <tr>\n",
       "      <th>1</th>\n",
       "      <td>5</td>\n",
       "      <td>Antioquia</td>\n",
       "      <td>7.000000</td>\n",
       "      <td>-75.500000</td>\n",
       "    </tr>\n",
       "    <tr>\n",
       "      <th>2</th>\n",
       "      <td>81</td>\n",
       "      <td>Arauca</td>\n",
       "      <td>7.090278</td>\n",
       "      <td>-70.761667</td>\n",
       "    </tr>\n",
       "    <tr>\n",
       "      <th>3</th>\n",
       "      <td>8</td>\n",
       "      <td>Atlántico</td>\n",
       "      <td>10.750000</td>\n",
       "      <td>-75.000000</td>\n",
       "    </tr>\n",
       "    <tr>\n",
       "      <th>4</th>\n",
       "      <td>13</td>\n",
       "      <td>Bolívar</td>\n",
       "      <td>9.000000</td>\n",
       "      <td>-74.333333</td>\n",
       "    </tr>\n",
       "  </tbody>\n",
       "</table>\n",
       "</div>"
      ],
      "text/plain": [
       "   codigo_depto nombre_depto  lati_depto  long_depto\n",
       "0            91     Amazonas   -1.019722  -71.938333\n",
       "1             5    Antioquia    7.000000  -75.500000\n",
       "2            81       Arauca    7.090278  -70.761667\n",
       "3             8    Atlántico   10.750000  -75.000000\n",
       "4            13      Bolívar    9.000000  -74.333333"
      ]
     },
     "execution_count": 9,
     "metadata": {},
     "output_type": "execute_result"
    }
   ],
   "source": [
    "df_depto.head()"
   ]
  },
  {
   "cell_type": "markdown",
   "metadata": {},
   "source": [
    "Luego revisamos los tipos de datos y transformamos lo que sea necesario"
   ]
  },
  {
   "cell_type": "code",
   "execution_count": 10,
   "metadata": {},
   "outputs": [
    {
     "name": "stdout",
     "output_type": "stream",
     "text": [
      "<class 'pandas.core.frame.DataFrame'>\n",
      "RangeIndex: 33 entries, 0 to 32\n",
      "Data columns (total 4 columns):\n",
      " #   Column        Non-Null Count  Dtype  \n",
      "---  ------        --------------  -----  \n",
      " 0   codigo_depto  33 non-null     int64  \n",
      " 1   nombre_depto  33 non-null     object \n",
      " 2   lati_depto    33 non-null     float64\n",
      " 3   long_depto    33 non-null     float64\n",
      "dtypes: float64(2), int64(1), object(1)\n",
      "memory usage: 1.2+ KB\n"
     ]
    }
   ],
   "source": [
    "df_depto.info()"
   ]
  },
  {
   "cell_type": "markdown",
   "metadata": {},
   "source": [
    "Todo correcto"
   ]
  },
  {
   "cell_type": "markdown",
   "metadata": {},
   "source": [
    "## Datos de población por depto"
   ]
  },
  {
   "cell_type": "code",
   "execution_count": 11,
   "metadata": {
    "scrolled": false
   },
   "outputs": [
    {
     "data": {
      "text/html": [
       "<div>\n",
       "<style scoped>\n",
       "    .dataframe tbody tr th:only-of-type {\n",
       "        vertical-align: middle;\n",
       "    }\n",
       "\n",
       "    .dataframe tbody tr th {\n",
       "        vertical-align: top;\n",
       "    }\n",
       "\n",
       "    .dataframe thead th {\n",
       "        text-align: right;\n",
       "    }\n",
       "</style>\n",
       "<table border=\"1\" class=\"dataframe\">\n",
       "  <thead>\n",
       "    <tr style=\"text-align: right;\">\n",
       "      <th></th>\n",
       "      <th>departamento</th>\n",
       "      <th>población</th>\n",
       "    </tr>\n",
       "  </thead>\n",
       "  <tbody>\n",
       "    <tr>\n",
       "      <th>0</th>\n",
       "      <td>Amazonas</td>\n",
       "      <td>79020</td>\n",
       "    </tr>\n",
       "    <tr>\n",
       "      <th>1</th>\n",
       "      <td>Antioquia</td>\n",
       "      <td>6677930</td>\n",
       "    </tr>\n",
       "    <tr>\n",
       "      <th>2</th>\n",
       "      <td>Arauca</td>\n",
       "      <td>391020</td>\n",
       "    </tr>\n",
       "    <tr>\n",
       "      <th>3</th>\n",
       "      <td>Atlántico</td>\n",
       "      <td>2722128</td>\n",
       "    </tr>\n",
       "    <tr>\n",
       "      <th>4</th>\n",
       "      <td>Bogotá</td>\n",
       "      <td>7743955</td>\n",
       "    </tr>\n",
       "  </tbody>\n",
       "</table>\n",
       "</div>"
      ],
      "text/plain": [
       "  departamento  población\n",
       "0     Amazonas      79020\n",
       "1    Antioquia    6677930\n",
       "2       Arauca     391020\n",
       "3    Atlántico    2722128\n",
       "4       Bogotá    7743955"
      ]
     },
     "execution_count": 11,
     "metadata": {},
     "output_type": "execute_result"
    }
   ],
   "source": [
    "df_poblacion_depto.head()"
   ]
  },
  {
   "cell_type": "markdown",
   "metadata": {},
   "source": [
    "Luego revisamos los tipos de datos y transformamos lo que sea necesario"
   ]
  },
  {
   "cell_type": "code",
   "execution_count": 12,
   "metadata": {},
   "outputs": [
    {
     "name": "stdout",
     "output_type": "stream",
     "text": [
      "<class 'pandas.core.frame.DataFrame'>\n",
      "RangeIndex: 33 entries, 0 to 32\n",
      "Data columns (total 2 columns):\n",
      " #   Column        Non-Null Count  Dtype \n",
      "---  ------        --------------  ----- \n",
      " 0   departamento  33 non-null     object\n",
      " 1   población     33 non-null     int64 \n",
      "dtypes: int64(1), object(1)\n",
      "memory usage: 656.0+ bytes\n"
     ]
    }
   ],
   "source": [
    "df_poblacion_depto.info()"
   ]
  },
  {
   "cell_type": "markdown",
   "metadata": {},
   "source": [
    "Todo correcto"
   ]
  },
  {
   "cell_type": "markdown",
   "metadata": {},
   "source": [
    "## Datos de población por edad, sexo y año"
   ]
  },
  {
   "cell_type": "code",
   "execution_count": 13,
   "metadata": {
    "scrolled": true
   },
   "outputs": [
    {
     "data": {
      "text/html": [
       "<div>\n",
       "<style scoped>\n",
       "    .dataframe tbody tr th:only-of-type {\n",
       "        vertical-align: middle;\n",
       "    }\n",
       "\n",
       "    .dataframe tbody tr th {\n",
       "        vertical-align: top;\n",
       "    }\n",
       "\n",
       "    .dataframe thead th {\n",
       "        text-align: right;\n",
       "    }\n",
       "</style>\n",
       "<table border=\"1\" class=\"dataframe\">\n",
       "  <thead>\n",
       "    <tr style=\"text-align: right;\">\n",
       "      <th></th>\n",
       "      <th>anio</th>\n",
       "      <th>edad</th>\n",
       "      <th>poblacion</th>\n",
       "      <th>sexo</th>\n",
       "    </tr>\n",
       "  </thead>\n",
       "  <tbody>\n",
       "    <tr>\n",
       "      <th>0</th>\n",
       "      <td>2010</td>\n",
       "      <td>80+ años</td>\n",
       "      <td>245286</td>\n",
       "      <td>Hombres</td>\n",
       "    </tr>\n",
       "    <tr>\n",
       "      <th>1</th>\n",
       "      <td>2010</td>\n",
       "      <td>75-79 años</td>\n",
       "      <td>248086</td>\n",
       "      <td>Hombres</td>\n",
       "    </tr>\n",
       "    <tr>\n",
       "      <th>2</th>\n",
       "      <td>2010</td>\n",
       "      <td>70-74 años</td>\n",
       "      <td>353204</td>\n",
       "      <td>Hombres</td>\n",
       "    </tr>\n",
       "    <tr>\n",
       "      <th>3</th>\n",
       "      <td>2010</td>\n",
       "      <td>65-69 años</td>\n",
       "      <td>471137</td>\n",
       "      <td>Hombres</td>\n",
       "    </tr>\n",
       "    <tr>\n",
       "      <th>4</th>\n",
       "      <td>2010</td>\n",
       "      <td>60-64 años</td>\n",
       "      <td>656599</td>\n",
       "      <td>Hombres</td>\n",
       "    </tr>\n",
       "  </tbody>\n",
       "</table>\n",
       "</div>"
      ],
      "text/plain": [
       "   anio        edad  poblacion     sexo\n",
       "0  2010    80+ años     245286  Hombres\n",
       "1  2010  75-79 años     248086  Hombres\n",
       "2  2010  70-74 años     353204  Hombres\n",
       "3  2010  65-69 años     471137  Hombres\n",
       "4  2010  60-64 años     656599  Hombres"
      ]
     },
     "execution_count": 13,
     "metadata": {},
     "output_type": "execute_result"
    }
   ],
   "source": [
    "df_poblacion_datos.head()"
   ]
  },
  {
   "cell_type": "markdown",
   "metadata": {},
   "source": [
    "Luego revisamos los tipos de datos y transformamos lo que sea necesario"
   ]
  },
  {
   "cell_type": "code",
   "execution_count": 14,
   "metadata": {},
   "outputs": [
    {
     "name": "stdout",
     "output_type": "stream",
     "text": [
      "<class 'pandas.core.frame.DataFrame'>\n",
      "RangeIndex: 170 entries, 0 to 169\n",
      "Data columns (total 4 columns):\n",
      " #   Column     Non-Null Count  Dtype \n",
      "---  ------     --------------  ----- \n",
      " 0   anio       170 non-null    int64 \n",
      " 1   edad       170 non-null    object\n",
      " 2   poblacion  170 non-null    int64 \n",
      " 3   sexo       170 non-null    object\n",
      "dtypes: int64(2), object(2)\n",
      "memory usage: 5.4+ KB\n"
     ]
    }
   ],
   "source": [
    "df_poblacion_datos.info()"
   ]
  },
  {
   "cell_type": "markdown",
   "metadata": {},
   "source": [
    "Todo correcto"
   ]
  },
  {
   "cell_type": "markdown",
   "metadata": {},
   "source": [
    "# Transformaciones\n",
    "En caso de no contar con la cantidad de población determinada para algún grupo vamos a retirar esta información por lo que retiraremos los valores referentes a:\n",
    "+ Muertes en el extranjero (columna codigo_depto con el valor 100)\n",
    "+ Muertes de sexo indeterminado (columna sexo con el valor \"Indeterminado\")\n",
    "+ Muertes de edad desconocida (columna edad con valor \"Edad Desconocida\")"
   ]
  },
  {
   "cell_type": "code",
   "execution_count": 15,
   "metadata": {},
   "outputs": [],
   "source": [
    "df_main = df_main.drop(df_main[df_main['codigo_depto']==100].index)\n",
    "df_main = df_main.drop(df_main[df_main['sexo']=='Indeterminado'].index)\n",
    "df_main = df_main.drop(df_main[df_main['edad']=='Edad desconocida'].index)"
   ]
  },
  {
   "cell_type": "markdown",
   "metadata": {},
   "source": [
    "En la columna edad quitaremos los valores correspondientes a \"De 65 y más\" dado que en esa columna a la vez hay rangos como \"De 65-84 años\", \"De 85-99 años\", \"De 100 y más\" y al ser dos versiones de la misma información (aparentemente), decidimos quedarnos con los otros rangos en espera de que nos den más info."
   ]
  },
  {
   "cell_type": "code",
   "execution_count": 16,
   "metadata": {},
   "outputs": [],
   "source": [
    "df_main = df_main.drop(df_main[df_main['edad']=='De 65 y más'].index)"
   ]
  },
  {
   "cell_type": "markdown",
   "metadata": {},
   "source": [
    "## Conseguimos el numero de personas por S,E,A\n",
    "Vamos a conseguir un numero de personas por sexo, edad y año"
   ]
  },
  {
   "cell_type": "code",
   "execution_count": 17,
   "metadata": {},
   "outputs": [],
   "source": [
    "#Df temporal con main\n",
    "df1 = df_main.copy()\n",
    "#Df temporal con datos\n",
    "df2 = df_poblacion_datos.copy()"
   ]
  },
  {
   "cell_type": "markdown",
   "metadata": {},
   "source": [
    "Agrupamos para hallar el numero de casos sin discriminar por municipio"
   ]
  },
  {
   "cell_type": "code",
   "execution_count": 18,
   "metadata": {
    "scrolled": true
   },
   "outputs": [
    {
     "data": {
      "text/html": [
       "<div>\n",
       "<style scoped>\n",
       "    .dataframe tbody tr th:only-of-type {\n",
       "        vertical-align: middle;\n",
       "    }\n",
       "\n",
       "    .dataframe tbody tr th {\n",
       "        vertical-align: top;\n",
       "    }\n",
       "\n",
       "    .dataframe thead th {\n",
       "        text-align: right;\n",
       "    }\n",
       "</style>\n",
       "<table border=\"1\" class=\"dataframe\">\n",
       "  <thead>\n",
       "    <tr style=\"text-align: right;\">\n",
       "      <th></th>\n",
       "      <th></th>\n",
       "      <th></th>\n",
       "      <th></th>\n",
       "      <th></th>\n",
       "      <th></th>\n",
       "      <th></th>\n",
       "      <th>codigo_muni</th>\n",
       "      <th>num_casos</th>\n",
       "    </tr>\n",
       "    <tr>\n",
       "      <th>sexo</th>\n",
       "      <th>anio</th>\n",
       "      <th>edad</th>\n",
       "      <th>codigo_depto</th>\n",
       "      <th>nombre_depto</th>\n",
       "      <th>codigo_evento</th>\n",
       "      <th>evento</th>\n",
       "      <th></th>\n",
       "      <th></th>\n",
       "    </tr>\n",
       "  </thead>\n",
       "  <tbody>\n",
       "    <tr>\n",
       "      <th rowspan=\"5\" valign=\"top\">Hombres</th>\n",
       "      <th rowspan=\"5\" valign=\"top\">2010</th>\n",
       "      <th rowspan=\"5\" valign=\"top\">De 1-4 años</th>\n",
       "      <th rowspan=\"5\" valign=\"top\">5</th>\n",
       "      <th rowspan=\"5\" valign=\"top\">Antioquia</th>\n",
       "      <th>101</th>\n",
       "      <th>ENFERMEDADES INFECCIOSAS INTESTINALES</th>\n",
       "      <td>5051</td>\n",
       "      <td>1</td>\n",
       "    </tr>\n",
       "    <tr>\n",
       "      <th>103</th>\n",
       "      <th>CIERTAS ENF. TRANSMITIDAS POR VECTORES Y RABIA</th>\n",
       "      <td>5854</td>\n",
       "      <td>1</td>\n",
       "    </tr>\n",
       "    <tr>\n",
       "      <th>105</th>\n",
       "      <th>MENINGITIS</th>\n",
       "      <td>5001</td>\n",
       "      <td>2</td>\n",
       "    </tr>\n",
       "    <tr>\n",
       "      <th>106</th>\n",
       "      <th>SEPTICEMIA</th>\n",
       "      <td>5647</td>\n",
       "      <td>1</td>\n",
       "    </tr>\n",
       "    <tr>\n",
       "      <th>109</th>\n",
       "      <th>INFECCIONES RESPIRATORIAS AGUDAS</th>\n",
       "      <td>48994</td>\n",
       "      <td>9</td>\n",
       "    </tr>\n",
       "  </tbody>\n",
       "</table>\n",
       "</div>"
      ],
      "text/plain": [
       "                                                                                                                 codigo_muni  \\\n",
       "sexo    anio edad        codigo_depto nombre_depto codigo_evento evento                                                        \n",
       "Hombres 2010 De 1-4 años 5            Antioquia    101           ENFERMEDADES INFECCIOSAS INTESTINALES                  5051   \n",
       "                                                   103           CIERTAS ENF. TRANSMITIDAS POR VECTORES Y RABIA         5854   \n",
       "                                                   105           MENINGITIS                                             5001   \n",
       "                                                   106           SEPTICEMIA                                             5647   \n",
       "                                                   109           INFECCIONES RESPIRATORIAS AGUDAS                      48994   \n",
       "\n",
       "                                                                                                                 num_casos  \n",
       "sexo    anio edad        codigo_depto nombre_depto codigo_evento evento                                                     \n",
       "Hombres 2010 De 1-4 años 5            Antioquia    101           ENFERMEDADES INFECCIOSAS INTESTINALES                   1  \n",
       "                                                   103           CIERTAS ENF. TRANSMITIDAS POR VECTORES Y RABIA          1  \n",
       "                                                   105           MENINGITIS                                              2  \n",
       "                                                   106           SEPTICEMIA                                              1  \n",
       "                                                   109           INFECCIONES RESPIRATORIAS AGUDAS                        9  "
      ]
     },
     "execution_count": 18,
     "metadata": {},
     "output_type": "execute_result"
    }
   ],
   "source": [
    "df1 = df1.groupby(['sexo','anio','edad','codigo_depto','nombre_depto','codigo_evento','evento']).sum()\n",
    "df1.head(5)"
   ]
  },
  {
   "cell_type": "markdown",
   "metadata": {},
   "source": [
    "Arreglamos el indice y quitamos codigo_muni"
   ]
  },
  {
   "cell_type": "code",
   "execution_count": 19,
   "metadata": {},
   "outputs": [],
   "source": [
    "df1 = df1.reset_index()\n",
    "df1 = df1.drop(columns=[\"codigo_muni\"])"
   ]
  },
  {
   "cell_type": "code",
   "execution_count": 20,
   "metadata": {},
   "outputs": [
    {
     "data": {
      "text/html": [
       "<div>\n",
       "<style scoped>\n",
       "    .dataframe tbody tr th:only-of-type {\n",
       "        vertical-align: middle;\n",
       "    }\n",
       "\n",
       "    .dataframe tbody tr th {\n",
       "        vertical-align: top;\n",
       "    }\n",
       "\n",
       "    .dataframe thead th {\n",
       "        text-align: right;\n",
       "    }\n",
       "</style>\n",
       "<table border=\"1\" class=\"dataframe\">\n",
       "  <thead>\n",
       "    <tr style=\"text-align: right;\">\n",
       "      <th></th>\n",
       "      <th>sexo</th>\n",
       "      <th>anio</th>\n",
       "      <th>edad</th>\n",
       "      <th>codigo_depto</th>\n",
       "      <th>nombre_depto</th>\n",
       "      <th>codigo_evento</th>\n",
       "      <th>evento</th>\n",
       "      <th>num_casos</th>\n",
       "    </tr>\n",
       "  </thead>\n",
       "  <tbody>\n",
       "    <tr>\n",
       "      <th>0</th>\n",
       "      <td>Hombres</td>\n",
       "      <td>2010</td>\n",
       "      <td>De 1-4 años</td>\n",
       "      <td>5</td>\n",
       "      <td>Antioquia</td>\n",
       "      <td>101</td>\n",
       "      <td>ENFERMEDADES INFECCIOSAS INTESTINALES</td>\n",
       "      <td>1</td>\n",
       "    </tr>\n",
       "    <tr>\n",
       "      <th>1</th>\n",
       "      <td>Hombres</td>\n",
       "      <td>2010</td>\n",
       "      <td>De 1-4 años</td>\n",
       "      <td>5</td>\n",
       "      <td>Antioquia</td>\n",
       "      <td>103</td>\n",
       "      <td>CIERTAS ENF. TRANSMITIDAS POR VECTORES Y RABIA</td>\n",
       "      <td>1</td>\n",
       "    </tr>\n",
       "    <tr>\n",
       "      <th>2</th>\n",
       "      <td>Hombres</td>\n",
       "      <td>2010</td>\n",
       "      <td>De 1-4 años</td>\n",
       "      <td>5</td>\n",
       "      <td>Antioquia</td>\n",
       "      <td>105</td>\n",
       "      <td>MENINGITIS</td>\n",
       "      <td>2</td>\n",
       "    </tr>\n",
       "    <tr>\n",
       "      <th>3</th>\n",
       "      <td>Hombres</td>\n",
       "      <td>2010</td>\n",
       "      <td>De 1-4 años</td>\n",
       "      <td>5</td>\n",
       "      <td>Antioquia</td>\n",
       "      <td>106</td>\n",
       "      <td>SEPTICEMIA</td>\n",
       "      <td>1</td>\n",
       "    </tr>\n",
       "    <tr>\n",
       "      <th>4</th>\n",
       "      <td>Hombres</td>\n",
       "      <td>2010</td>\n",
       "      <td>De 1-4 años</td>\n",
       "      <td>5</td>\n",
       "      <td>Antioquia</td>\n",
       "      <td>109</td>\n",
       "      <td>INFECCIONES RESPIRATORIAS AGUDAS</td>\n",
       "      <td>9</td>\n",
       "    </tr>\n",
       "  </tbody>\n",
       "</table>\n",
       "</div>"
      ],
      "text/plain": [
       "      sexo  anio         edad  codigo_depto nombre_depto  codigo_evento  \\\n",
       "0  Hombres  2010  De 1-4 años             5    Antioquia            101   \n",
       "1  Hombres  2010  De 1-4 años             5    Antioquia            103   \n",
       "2  Hombres  2010  De 1-4 años             5    Antioquia            105   \n",
       "3  Hombres  2010  De 1-4 años             5    Antioquia            106   \n",
       "4  Hombres  2010  De 1-4 años             5    Antioquia            109   \n",
       "\n",
       "                                           evento  num_casos  \n",
       "0           ENFERMEDADES INFECCIOSAS INTESTINALES          1  \n",
       "1  CIERTAS ENF. TRANSMITIDAS POR VECTORES Y RABIA          1  \n",
       "2                                      MENINGITIS          2  \n",
       "3                                      SEPTICEMIA          1  \n",
       "4                INFECCIONES RESPIRATORIAS AGUDAS          9  "
      ]
     },
     "execution_count": 20,
     "metadata": {},
     "output_type": "execute_result"
    }
   ],
   "source": [
    "df1.head(5)"
   ]
  },
  {
   "cell_type": "code",
   "execution_count": 21,
   "metadata": {},
   "outputs": [
    {
     "data": {
      "text/html": [
       "<div>\n",
       "<style scoped>\n",
       "    .dataframe tbody tr th:only-of-type {\n",
       "        vertical-align: middle;\n",
       "    }\n",
       "\n",
       "    .dataframe tbody tr th {\n",
       "        vertical-align: top;\n",
       "    }\n",
       "\n",
       "    .dataframe thead th {\n",
       "        text-align: right;\n",
       "    }\n",
       "</style>\n",
       "<table border=\"1\" class=\"dataframe\">\n",
       "  <thead>\n",
       "    <tr style=\"text-align: right;\">\n",
       "      <th></th>\n",
       "      <th>sexo</th>\n",
       "      <th>anio</th>\n",
       "      <th>edad</th>\n",
       "      <th>codigo_depto</th>\n",
       "      <th>nombre_depto</th>\n",
       "      <th>codigo_evento</th>\n",
       "      <th>evento</th>\n",
       "      <th>num_casos</th>\n",
       "    </tr>\n",
       "  </thead>\n",
       "  <tbody>\n",
       "    <tr>\n",
       "      <th>74859</th>\n",
       "      <td>Mujeres</td>\n",
       "      <td>2017</td>\n",
       "      <td>Menor 1 año</td>\n",
       "      <td>99</td>\n",
       "      <td>Vichada</td>\n",
       "      <td>404</td>\n",
       "      <td>TRAST. RESPIRATORIOS ESPECIFICOS DEL PERIODO P...</td>\n",
       "      <td>1</td>\n",
       "    </tr>\n",
       "    <tr>\n",
       "      <th>74860</th>\n",
       "      <td>Mujeres</td>\n",
       "      <td>2017</td>\n",
       "      <td>Menor 1 año</td>\n",
       "      <td>99</td>\n",
       "      <td>Vichada</td>\n",
       "      <td>405</td>\n",
       "      <td>SEPSIS BACTERIANA DEL RECIEN NACIDO</td>\n",
       "      <td>2</td>\n",
       "    </tr>\n",
       "    <tr>\n",
       "      <th>74861</th>\n",
       "      <td>Mujeres</td>\n",
       "      <td>2017</td>\n",
       "      <td>Menor 1 año</td>\n",
       "      <td>99</td>\n",
       "      <td>Vichada</td>\n",
       "      <td>602</td>\n",
       "      <td>DEFICIENCIAS NUTRICIONALES Y ANEMIAS NUTRICION...</td>\n",
       "      <td>4</td>\n",
       "    </tr>\n",
       "    <tr>\n",
       "      <th>74862</th>\n",
       "      <td>Mujeres</td>\n",
       "      <td>2017</td>\n",
       "      <td>Menor 1 año</td>\n",
       "      <td>99</td>\n",
       "      <td>Vichada</td>\n",
       "      <td>615</td>\n",
       "      <td>MALFORMACIONES CONGEN., DEFORMID.Y ANOMALIAS C...</td>\n",
       "      <td>1</td>\n",
       "    </tr>\n",
       "    <tr>\n",
       "      <th>74863</th>\n",
       "      <td>Mujeres</td>\n",
       "      <td>2017</td>\n",
       "      <td>Menor 1 año</td>\n",
       "      <td>99</td>\n",
       "      <td>Vichada</td>\n",
       "      <td>700</td>\n",
       "      <td>SINTOMAS, SIGNOS Y AFECCIONES MAL DEFINIDAS</td>\n",
       "      <td>1</td>\n",
       "    </tr>\n",
       "  </tbody>\n",
       "</table>\n",
       "</div>"
      ],
      "text/plain": [
       "          sexo  anio         edad  codigo_depto nombre_depto  codigo_evento  \\\n",
       "74859  Mujeres  2017  Menor 1 año            99      Vichada            404   \n",
       "74860  Mujeres  2017  Menor 1 año            99      Vichada            405   \n",
       "74861  Mujeres  2017  Menor 1 año            99      Vichada            602   \n",
       "74862  Mujeres  2017  Menor 1 año            99      Vichada            615   \n",
       "74863  Mujeres  2017  Menor 1 año            99      Vichada            700   \n",
       "\n",
       "                                                  evento  num_casos  \n",
       "74859  TRAST. RESPIRATORIOS ESPECIFICOS DEL PERIODO P...          1  \n",
       "74860                SEPSIS BACTERIANA DEL RECIEN NACIDO          2  \n",
       "74861  DEFICIENCIAS NUTRICIONALES Y ANEMIAS NUTRICION...          4  \n",
       "74862  MALFORMACIONES CONGEN., DEFORMID.Y ANOMALIAS C...          1  \n",
       "74863        SINTOMAS, SIGNOS Y AFECCIONES MAL DEFINIDAS          1  "
      ]
     },
     "execution_count": 21,
     "metadata": {},
     "output_type": "execute_result"
    }
   ],
   "source": [
    "df1.tail(5)"
   ]
  },
  {
   "cell_type": "code",
   "execution_count": 22,
   "metadata": {
    "scrolled": false
   },
   "outputs": [
    {
     "data": {
      "text/plain": [
       "De 45-64 años    19872\n",
       "De 15-44 años    18228\n",
       "Menor 1 año       8695\n",
       "De 65-84 años     7608\n",
       "De 5-14 años      6881\n",
       "De 1-4 años       6125\n",
       "De 85-99 años     6063\n",
       "De 100 y más      1392\n",
       "Name: edad, dtype: int64"
      ]
     },
     "execution_count": 22,
     "metadata": {},
     "output_type": "execute_result"
    }
   ],
   "source": [
    "df1[\"edad\"].value_counts()"
   ]
  },
  {
   "cell_type": "markdown",
   "metadata": {},
   "source": [
    "Vamos a crear una columna en el dataframe df1 y en el dataframe df_población_datos que nos ayude a hacer la relación que queremos para mapear rangos de edad"
   ]
  },
  {
   "cell_type": "code",
   "execution_count": 23,
   "metadata": {},
   "outputs": [],
   "source": [
    "rangos_df1 = {'Menor 1 año':'0-4 años','De 1-4 años':'0-4 años',\n",
    "              'De 5-14 años':'5-14 años','De 15-44 años':'15-44 años',\n",
    "              'De 15-44 años':'15-44 años','De 45-64 años':'45-64 años',\n",
    "              'De 65-84 años':'65+ años', 'De 65 y más':'65+ años',\n",
    "              'De 85-99 años':'65+ años','De 100 y más':'65+ años'\n",
    "             }\n",
    "\n",
    "df1['edad'] = df1['edad'].apply(lambda x : rangos_df1[x])"
   ]
  },
  {
   "cell_type": "code",
   "execution_count": 24,
   "metadata": {},
   "outputs": [],
   "source": [
    "rangos_datos = {'80+ años':'65+ años','75-79 años':'65+ años',\n",
    "                '70-74 años':'65+ años','65-69 años':'65+ años',\n",
    "                '60-64 años':'45-64 años','55-59 años':'45-64 años',\n",
    "                '50-54 años':'45-64 años','45-49 años':'45-64 años',\n",
    "                '40-45 años':'15-44 años','35-40 años':'15-44 años',\n",
    "                '30-34 años':'15-44 años','25-29 años':'15-44 años',\n",
    "                '20-24 años':'15-44 años','15-19 años':'15-44 años',\n",
    "                '10-14 años':'5-14 años','5-9 años':'5-14 años',\n",
    "                '0-4 años':'0-4 años'\n",
    "             }\n",
    "\n",
    "df2['edad'] = df2['edad'].apply(lambda x : rangos_datos[x])"
   ]
  },
  {
   "cell_type": "markdown",
   "metadata": {},
   "source": [
    "Para df2 los elementos que en edad tengan el mismo valor ahora deben ser sumados"
   ]
  },
  {
   "cell_type": "code",
   "execution_count": 25,
   "metadata": {},
   "outputs": [],
   "source": [
    "df2 = df2.groupby(by=['edad','anio','sexo']).sum()\n",
    "#Para volverlo dataframe denuevo\n",
    "df2 = df2.reset_index()"
   ]
  },
  {
   "cell_type": "code",
   "execution_count": 26,
   "metadata": {},
   "outputs": [],
   "source": [
    "#Df temporal con la union de los anteriores\n",
    "df3 = pd.merge(df1, df2,  on=['edad','anio','sexo'])"
   ]
  },
  {
   "cell_type": "code",
   "execution_count": 27,
   "metadata": {},
   "outputs": [
    {
     "data": {
      "text/html": [
       "<div>\n",
       "<style scoped>\n",
       "    .dataframe tbody tr th:only-of-type {\n",
       "        vertical-align: middle;\n",
       "    }\n",
       "\n",
       "    .dataframe tbody tr th {\n",
       "        vertical-align: top;\n",
       "    }\n",
       "\n",
       "    .dataframe thead th {\n",
       "        text-align: right;\n",
       "    }\n",
       "</style>\n",
       "<table border=\"1\" class=\"dataframe\">\n",
       "  <thead>\n",
       "    <tr style=\"text-align: right;\">\n",
       "      <th></th>\n",
       "      <th>sexo</th>\n",
       "      <th>anio</th>\n",
       "      <th>edad</th>\n",
       "      <th>codigo_depto</th>\n",
       "      <th>nombre_depto</th>\n",
       "      <th>codigo_evento</th>\n",
       "      <th>evento</th>\n",
       "      <th>num_casos</th>\n",
       "      <th>poblacion</th>\n",
       "    </tr>\n",
       "  </thead>\n",
       "  <tbody>\n",
       "    <tr>\n",
       "      <th>45258</th>\n",
       "      <td>Mujeres</td>\n",
       "      <td>2017</td>\n",
       "      <td>5-14 años</td>\n",
       "      <td>86</td>\n",
       "      <td>Putumayo</td>\n",
       "      <td>510</td>\n",
       "      <td>OTROS ACCIDENTES, INCLUSIVE SECUELAS</td>\n",
       "      <td>1</td>\n",
       "      <td>4158721</td>\n",
       "    </tr>\n",
       "    <tr>\n",
       "      <th>45259</th>\n",
       "      <td>Mujeres</td>\n",
       "      <td>2017</td>\n",
       "      <td>5-14 años</td>\n",
       "      <td>86</td>\n",
       "      <td>Putumayo</td>\n",
       "      <td>512</td>\n",
       "      <td>AGRESIONES (HOMICIDIOS), INCLUSIVE SECUELAS</td>\n",
       "      <td>1</td>\n",
       "      <td>4158721</td>\n",
       "    </tr>\n",
       "    <tr>\n",
       "      <th>45260</th>\n",
       "      <td>Mujeres</td>\n",
       "      <td>2017</td>\n",
       "      <td>5-14 años</td>\n",
       "      <td>91</td>\n",
       "      <td>Amazonas</td>\n",
       "      <td>700</td>\n",
       "      <td>SINTOMAS, SIGNOS Y AFECCIONES MAL DEFINIDAS</td>\n",
       "      <td>1</td>\n",
       "      <td>4158721</td>\n",
       "    </tr>\n",
       "    <tr>\n",
       "      <th>45261</th>\n",
       "      <td>Mujeres</td>\n",
       "      <td>2017</td>\n",
       "      <td>5-14 años</td>\n",
       "      <td>95</td>\n",
       "      <td>Guaviare</td>\n",
       "      <td>609</td>\n",
       "      <td>APENDICITIS, HERNIA CAVIDAD ABDOMINAL Y OBSTR....</td>\n",
       "      <td>1</td>\n",
       "      <td>4158721</td>\n",
       "    </tr>\n",
       "    <tr>\n",
       "      <th>45262</th>\n",
       "      <td>Mujeres</td>\n",
       "      <td>2017</td>\n",
       "      <td>5-14 años</td>\n",
       "      <td>99</td>\n",
       "      <td>Vichada</td>\n",
       "      <td>506</td>\n",
       "      <td>AHOGAMIENTO Y SUMERSION ACCIDENTALES</td>\n",
       "      <td>1</td>\n",
       "      <td>4158721</td>\n",
       "    </tr>\n",
       "  </tbody>\n",
       "</table>\n",
       "</div>"
      ],
      "text/plain": [
       "          sexo  anio       edad  codigo_depto nombre_depto  codigo_evento  \\\n",
       "45258  Mujeres  2017  5-14 años            86     Putumayo            510   \n",
       "45259  Mujeres  2017  5-14 años            86     Putumayo            512   \n",
       "45260  Mujeres  2017  5-14 años            91     Amazonas            700   \n",
       "45261  Mujeres  2017  5-14 años            95     Guaviare            609   \n",
       "45262  Mujeres  2017  5-14 años            99      Vichada            506   \n",
       "\n",
       "                                                  evento  num_casos  poblacion  \n",
       "45258               OTROS ACCIDENTES, INCLUSIVE SECUELAS          1    4158721  \n",
       "45259        AGRESIONES (HOMICIDIOS), INCLUSIVE SECUELAS          1    4158721  \n",
       "45260        SINTOMAS, SIGNOS Y AFECCIONES MAL DEFINIDAS          1    4158721  \n",
       "45261  APENDICITIS, HERNIA CAVIDAD ABDOMINAL Y OBSTR....          1    4158721  \n",
       "45262               AHOGAMIENTO Y SUMERSION ACCIDENTALES          1    4158721  "
      ]
     },
     "execution_count": 27,
     "metadata": {},
     "output_type": "execute_result"
    }
   ],
   "source": [
    "df3.tail()"
   ]
  },
  {
   "cell_type": "markdown",
   "metadata": {},
   "source": [
    "## Conseguimos el porcentaje de personas por departamento"
   ]
  },
  {
   "cell_type": "code",
   "execution_count": 28,
   "metadata": {},
   "outputs": [],
   "source": [
    "#Df temporal con la información del departamento\n",
    "df4 = df_poblacion_depto.copy()\n",
    "#cambiamos el nombre de las columnas\n",
    "df4.columns = [\"nombre_depto\",\"poblacion\"]"
   ]
  },
  {
   "cell_type": "code",
   "execution_count": 29,
   "metadata": {},
   "outputs": [],
   "source": [
    "tot_poblacion = df4['poblacion'].sum()"
   ]
  },
  {
   "cell_type": "code",
   "execution_count": 30,
   "metadata": {},
   "outputs": [],
   "source": [
    "df4['porcentaje'] = df4['poblacion'].apply(lambda x : x/tot_poblacion)"
   ]
  },
  {
   "cell_type": "code",
   "execution_count": 31,
   "metadata": {},
   "outputs": [
    {
     "data": {
      "text/html": [
       "<div>\n",
       "<style scoped>\n",
       "    .dataframe tbody tr th:only-of-type {\n",
       "        vertical-align: middle;\n",
       "    }\n",
       "\n",
       "    .dataframe tbody tr th {\n",
       "        vertical-align: top;\n",
       "    }\n",
       "\n",
       "    .dataframe thead th {\n",
       "        text-align: right;\n",
       "    }\n",
       "</style>\n",
       "<table border=\"1\" class=\"dataframe\">\n",
       "  <thead>\n",
       "    <tr style=\"text-align: right;\">\n",
       "      <th></th>\n",
       "      <th>nombre_depto</th>\n",
       "      <th>poblacion</th>\n",
       "      <th>porcentaje</th>\n",
       "    </tr>\n",
       "  </thead>\n",
       "  <tbody>\n",
       "    <tr>\n",
       "      <th>0</th>\n",
       "      <td>Amazonas</td>\n",
       "      <td>79020</td>\n",
       "      <td>0.001564</td>\n",
       "    </tr>\n",
       "    <tr>\n",
       "      <th>1</th>\n",
       "      <td>Antioquia</td>\n",
       "      <td>6677930</td>\n",
       "      <td>0.132211</td>\n",
       "    </tr>\n",
       "    <tr>\n",
       "      <th>2</th>\n",
       "      <td>Arauca</td>\n",
       "      <td>391020</td>\n",
       "      <td>0.007742</td>\n",
       "    </tr>\n",
       "    <tr>\n",
       "      <th>3</th>\n",
       "      <td>Atlántico</td>\n",
       "      <td>2722128</td>\n",
       "      <td>0.053893</td>\n",
       "    </tr>\n",
       "    <tr>\n",
       "      <th>4</th>\n",
       "      <td>Bogotá</td>\n",
       "      <td>7743955</td>\n",
       "      <td>0.153317</td>\n",
       "    </tr>\n",
       "  </tbody>\n",
       "</table>\n",
       "</div>"
      ],
      "text/plain": [
       "  nombre_depto  poblacion  porcentaje\n",
       "0     Amazonas      79020    0.001564\n",
       "1    Antioquia    6677930    0.132211\n",
       "2       Arauca     391020    0.007742\n",
       "3    Atlántico    2722128    0.053893\n",
       "4       Bogotá    7743955    0.153317"
      ]
     },
     "execution_count": 31,
     "metadata": {},
     "output_type": "execute_result"
    }
   ],
   "source": [
    "df4.head()"
   ]
  },
  {
   "cell_type": "markdown",
   "metadata": {},
   "source": [
    "## Juntamos con la info anterior\n",
    "Juntamos todo para conseguir personas por sexo, año, edad y departemento"
   ]
  },
  {
   "cell_type": "code",
   "execution_count": 32,
   "metadata": {},
   "outputs": [],
   "source": [
    "df5 = pd.merge(df3,df4,on=[\"nombre_depto\"], suffixes = (\"_l\",\"_r\"))"
   ]
  },
  {
   "cell_type": "code",
   "execution_count": 33,
   "metadata": {},
   "outputs": [
    {
     "data": {
      "text/html": [
       "<div>\n",
       "<style scoped>\n",
       "    .dataframe tbody tr th:only-of-type {\n",
       "        vertical-align: middle;\n",
       "    }\n",
       "\n",
       "    .dataframe tbody tr th {\n",
       "        vertical-align: top;\n",
       "    }\n",
       "\n",
       "    .dataframe thead th {\n",
       "        text-align: right;\n",
       "    }\n",
       "</style>\n",
       "<table border=\"1\" class=\"dataframe\">\n",
       "  <thead>\n",
       "    <tr style=\"text-align: right;\">\n",
       "      <th></th>\n",
       "      <th>sexo</th>\n",
       "      <th>anio</th>\n",
       "      <th>edad</th>\n",
       "      <th>codigo_depto</th>\n",
       "      <th>nombre_depto</th>\n",
       "      <th>codigo_evento</th>\n",
       "      <th>evento</th>\n",
       "      <th>num_casos</th>\n",
       "      <th>poblacion_l</th>\n",
       "      <th>poblacion_r</th>\n",
       "      <th>porcentaje</th>\n",
       "    </tr>\n",
       "  </thead>\n",
       "  <tbody>\n",
       "    <tr>\n",
       "      <th>0</th>\n",
       "      <td>Hombres</td>\n",
       "      <td>2010</td>\n",
       "      <td>0-4 años</td>\n",
       "      <td>5</td>\n",
       "      <td>Antioquia</td>\n",
       "      <td>101</td>\n",
       "      <td>ENFERMEDADES INFECCIOSAS INTESTINALES</td>\n",
       "      <td>1</td>\n",
       "      <td>1959813</td>\n",
       "      <td>6677930</td>\n",
       "      <td>0.132211</td>\n",
       "    </tr>\n",
       "    <tr>\n",
       "      <th>1</th>\n",
       "      <td>Hombres</td>\n",
       "      <td>2010</td>\n",
       "      <td>0-4 años</td>\n",
       "      <td>5</td>\n",
       "      <td>Antioquia</td>\n",
       "      <td>103</td>\n",
       "      <td>CIERTAS ENF. TRANSMITIDAS POR VECTORES Y RABIA</td>\n",
       "      <td>1</td>\n",
       "      <td>1959813</td>\n",
       "      <td>6677930</td>\n",
       "      <td>0.132211</td>\n",
       "    </tr>\n",
       "    <tr>\n",
       "      <th>2</th>\n",
       "      <td>Hombres</td>\n",
       "      <td>2010</td>\n",
       "      <td>0-4 años</td>\n",
       "      <td>5</td>\n",
       "      <td>Antioquia</td>\n",
       "      <td>105</td>\n",
       "      <td>MENINGITIS</td>\n",
       "      <td>2</td>\n",
       "      <td>1959813</td>\n",
       "      <td>6677930</td>\n",
       "      <td>0.132211</td>\n",
       "    </tr>\n",
       "    <tr>\n",
       "      <th>3</th>\n",
       "      <td>Hombres</td>\n",
       "      <td>2010</td>\n",
       "      <td>0-4 años</td>\n",
       "      <td>5</td>\n",
       "      <td>Antioquia</td>\n",
       "      <td>106</td>\n",
       "      <td>SEPTICEMIA</td>\n",
       "      <td>1</td>\n",
       "      <td>1959813</td>\n",
       "      <td>6677930</td>\n",
       "      <td>0.132211</td>\n",
       "    </tr>\n",
       "    <tr>\n",
       "      <th>4</th>\n",
       "      <td>Hombres</td>\n",
       "      <td>2010</td>\n",
       "      <td>0-4 años</td>\n",
       "      <td>5</td>\n",
       "      <td>Antioquia</td>\n",
       "      <td>109</td>\n",
       "      <td>INFECCIONES RESPIRATORIAS AGUDAS</td>\n",
       "      <td>9</td>\n",
       "      <td>1959813</td>\n",
       "      <td>6677930</td>\n",
       "      <td>0.132211</td>\n",
       "    </tr>\n",
       "  </tbody>\n",
       "</table>\n",
       "</div>"
      ],
      "text/plain": [
       "      sexo  anio      edad  codigo_depto nombre_depto  codigo_evento  \\\n",
       "0  Hombres  2010  0-4 años             5    Antioquia            101   \n",
       "1  Hombres  2010  0-4 años             5    Antioquia            103   \n",
       "2  Hombres  2010  0-4 años             5    Antioquia            105   \n",
       "3  Hombres  2010  0-4 años             5    Antioquia            106   \n",
       "4  Hombres  2010  0-4 años             5    Antioquia            109   \n",
       "\n",
       "                                           evento  num_casos  poblacion_l  \\\n",
       "0           ENFERMEDADES INFECCIOSAS INTESTINALES          1      1959813   \n",
       "1  CIERTAS ENF. TRANSMITIDAS POR VECTORES Y RABIA          1      1959813   \n",
       "2                                      MENINGITIS          2      1959813   \n",
       "3                                      SEPTICEMIA          1      1959813   \n",
       "4                INFECCIONES RESPIRATORIAS AGUDAS          9      1959813   \n",
       "\n",
       "   poblacion_r  porcentaje  \n",
       "0      6677930    0.132211  \n",
       "1      6677930    0.132211  \n",
       "2      6677930    0.132211  \n",
       "3      6677930    0.132211  \n",
       "4      6677930    0.132211  "
      ]
     },
     "execution_count": 33,
     "metadata": {},
     "output_type": "execute_result"
    }
   ],
   "source": [
    "df5.head()"
   ]
  },
  {
   "cell_type": "markdown",
   "metadata": {},
   "source": [
    "Multiplicamos población_l con porcentaje para hallar cuantas personas con determinado sexo, año y edad son de cierto departamento, luego redondeamos"
   ]
  },
  {
   "cell_type": "code",
   "execution_count": 34,
   "metadata": {},
   "outputs": [],
   "source": [
    "df5[\"poblacion\"] = df5[\"poblacion_l\"] * df5[\"porcentaje\"]\n",
    "df5[\"poblacion\"] = df5[\"poblacion\"].apply(lambda x : math.ceil(x))"
   ]
  },
  {
   "cell_type": "markdown",
   "metadata": {},
   "source": [
    "Podemos dropear las columnas sobrantes"
   ]
  },
  {
   "cell_type": "code",
   "execution_count": 35,
   "metadata": {},
   "outputs": [],
   "source": [
    "df5 = df5.drop(columns=['poblacion_l','poblacion_r','porcentaje'])"
   ]
  },
  {
   "cell_type": "code",
   "execution_count": 36,
   "metadata": {},
   "outputs": [
    {
     "data": {
      "text/html": [
       "<div>\n",
       "<style scoped>\n",
       "    .dataframe tbody tr th:only-of-type {\n",
       "        vertical-align: middle;\n",
       "    }\n",
       "\n",
       "    .dataframe tbody tr th {\n",
       "        vertical-align: top;\n",
       "    }\n",
       "\n",
       "    .dataframe thead th {\n",
       "        text-align: right;\n",
       "    }\n",
       "</style>\n",
       "<table border=\"1\" class=\"dataframe\">\n",
       "  <thead>\n",
       "    <tr style=\"text-align: right;\">\n",
       "      <th></th>\n",
       "      <th>sexo</th>\n",
       "      <th>anio</th>\n",
       "      <th>edad</th>\n",
       "      <th>codigo_depto</th>\n",
       "      <th>nombre_depto</th>\n",
       "      <th>codigo_evento</th>\n",
       "      <th>evento</th>\n",
       "      <th>num_casos</th>\n",
       "      <th>poblacion</th>\n",
       "    </tr>\n",
       "  </thead>\n",
       "  <tbody>\n",
       "    <tr>\n",
       "      <th>0</th>\n",
       "      <td>Hombres</td>\n",
       "      <td>2010</td>\n",
       "      <td>0-4 años</td>\n",
       "      <td>5</td>\n",
       "      <td>Antioquia</td>\n",
       "      <td>101</td>\n",
       "      <td>ENFERMEDADES INFECCIOSAS INTESTINALES</td>\n",
       "      <td>1</td>\n",
       "      <td>259110</td>\n",
       "    </tr>\n",
       "    <tr>\n",
       "      <th>1</th>\n",
       "      <td>Hombres</td>\n",
       "      <td>2010</td>\n",
       "      <td>0-4 años</td>\n",
       "      <td>5</td>\n",
       "      <td>Antioquia</td>\n",
       "      <td>103</td>\n",
       "      <td>CIERTAS ENF. TRANSMITIDAS POR VECTORES Y RABIA</td>\n",
       "      <td>1</td>\n",
       "      <td>259110</td>\n",
       "    </tr>\n",
       "    <tr>\n",
       "      <th>2</th>\n",
       "      <td>Hombres</td>\n",
       "      <td>2010</td>\n",
       "      <td>0-4 años</td>\n",
       "      <td>5</td>\n",
       "      <td>Antioquia</td>\n",
       "      <td>105</td>\n",
       "      <td>MENINGITIS</td>\n",
       "      <td>2</td>\n",
       "      <td>259110</td>\n",
       "    </tr>\n",
       "    <tr>\n",
       "      <th>3</th>\n",
       "      <td>Hombres</td>\n",
       "      <td>2010</td>\n",
       "      <td>0-4 años</td>\n",
       "      <td>5</td>\n",
       "      <td>Antioquia</td>\n",
       "      <td>106</td>\n",
       "      <td>SEPTICEMIA</td>\n",
       "      <td>1</td>\n",
       "      <td>259110</td>\n",
       "    </tr>\n",
       "    <tr>\n",
       "      <th>4</th>\n",
       "      <td>Hombres</td>\n",
       "      <td>2010</td>\n",
       "      <td>0-4 años</td>\n",
       "      <td>5</td>\n",
       "      <td>Antioquia</td>\n",
       "      <td>109</td>\n",
       "      <td>INFECCIONES RESPIRATORIAS AGUDAS</td>\n",
       "      <td>9</td>\n",
       "      <td>259110</td>\n",
       "    </tr>\n",
       "    <tr>\n",
       "      <th>...</th>\n",
       "      <td>...</td>\n",
       "      <td>...</td>\n",
       "      <td>...</td>\n",
       "      <td>...</td>\n",
       "      <td>...</td>\n",
       "      <td>...</td>\n",
       "      <td>...</td>\n",
       "      <td>...</td>\n",
       "      <td>...</td>\n",
       "    </tr>\n",
       "    <tr>\n",
       "      <th>44864</th>\n",
       "      <td>Mujeres</td>\n",
       "      <td>2017</td>\n",
       "      <td>45-64 años</td>\n",
       "      <td>99</td>\n",
       "      <td>Vichada</td>\n",
       "      <td>213</td>\n",
       "      <td>RESIDUO DE TUMORES MALIGNOS</td>\n",
       "      <td>1</td>\n",
       "      <td>9805</td>\n",
       "    </tr>\n",
       "    <tr>\n",
       "      <th>44865</th>\n",
       "      <td>Mujeres</td>\n",
       "      <td>2017</td>\n",
       "      <td>45-64 años</td>\n",
       "      <td>99</td>\n",
       "      <td>Vichada</td>\n",
       "      <td>214</td>\n",
       "      <td>CARCINOMA IN-SITU, T. BENIGNOS Y DE COMPORTAM....</td>\n",
       "      <td>3</td>\n",
       "      <td>9805</td>\n",
       "    </tr>\n",
       "    <tr>\n",
       "      <th>44866</th>\n",
       "      <td>Mujeres</td>\n",
       "      <td>2017</td>\n",
       "      <td>45-64 años</td>\n",
       "      <td>99</td>\n",
       "      <td>Vichada</td>\n",
       "      <td>303</td>\n",
       "      <td>ENFERMEDADES ISQUEMICAS DEL CORAZON</td>\n",
       "      <td>1</td>\n",
       "      <td>9805</td>\n",
       "    </tr>\n",
       "    <tr>\n",
       "      <th>44867</th>\n",
       "      <td>Mujeres</td>\n",
       "      <td>2017</td>\n",
       "      <td>45-64 años</td>\n",
       "      <td>99</td>\n",
       "      <td>Vichada</td>\n",
       "      <td>612</td>\n",
       "      <td>ENFERMEDADES SISTEMA URINARIO</td>\n",
       "      <td>1</td>\n",
       "      <td>9805</td>\n",
       "    </tr>\n",
       "    <tr>\n",
       "      <th>44868</th>\n",
       "      <td>Mujeres</td>\n",
       "      <td>2017</td>\n",
       "      <td>5-14 años</td>\n",
       "      <td>99</td>\n",
       "      <td>Vichada</td>\n",
       "      <td>506</td>\n",
       "      <td>AHOGAMIENTO Y SUMERSION ACCIDENTALES</td>\n",
       "      <td>1</td>\n",
       "      <td>9301</td>\n",
       "    </tr>\n",
       "  </tbody>\n",
       "</table>\n",
       "<p>44869 rows × 9 columns</p>\n",
       "</div>"
      ],
      "text/plain": [
       "          sexo  anio        edad  codigo_depto nombre_depto  codigo_evento  \\\n",
       "0      Hombres  2010    0-4 años             5    Antioquia            101   \n",
       "1      Hombres  2010    0-4 años             5    Antioquia            103   \n",
       "2      Hombres  2010    0-4 años             5    Antioquia            105   \n",
       "3      Hombres  2010    0-4 años             5    Antioquia            106   \n",
       "4      Hombres  2010    0-4 años             5    Antioquia            109   \n",
       "...        ...   ...         ...           ...          ...            ...   \n",
       "44864  Mujeres  2017  45-64 años            99      Vichada            213   \n",
       "44865  Mujeres  2017  45-64 años            99      Vichada            214   \n",
       "44866  Mujeres  2017  45-64 años            99      Vichada            303   \n",
       "44867  Mujeres  2017  45-64 años            99      Vichada            612   \n",
       "44868  Mujeres  2017   5-14 años            99      Vichada            506   \n",
       "\n",
       "                                                  evento  num_casos  poblacion  \n",
       "0                  ENFERMEDADES INFECCIOSAS INTESTINALES          1     259110  \n",
       "1         CIERTAS ENF. TRANSMITIDAS POR VECTORES Y RABIA          1     259110  \n",
       "2                                             MENINGITIS          2     259110  \n",
       "3                                             SEPTICEMIA          1     259110  \n",
       "4                       INFECCIONES RESPIRATORIAS AGUDAS          9     259110  \n",
       "...                                                  ...        ...        ...  \n",
       "44864                        RESIDUO DE TUMORES MALIGNOS          1       9805  \n",
       "44865  CARCINOMA IN-SITU, T. BENIGNOS Y DE COMPORTAM....          3       9805  \n",
       "44866                ENFERMEDADES ISQUEMICAS DEL CORAZON          1       9805  \n",
       "44867                      ENFERMEDADES SISTEMA URINARIO          1       9805  \n",
       "44868               AHOGAMIENTO Y SUMERSION ACCIDENTALES          1       9301  \n",
       "\n",
       "[44869 rows x 9 columns]"
      ]
     },
     "execution_count": 36,
     "metadata": {},
     "output_type": "execute_result"
    }
   ],
   "source": [
    "df5"
   ]
  },
  {
   "cell_type": "markdown",
   "metadata": {},
   "source": [
    "## Normalizamos con la proporción casos/población\n",
    "Tomamos casos/1000 habitantes, casos/10000 habitantes y casos/100000 habitantes"
   ]
  },
  {
   "cell_type": "code",
   "execution_count": 37,
   "metadata": {},
   "outputs": [],
   "source": [
    "#Copia de df5\n",
    "df6 = df5.copy()"
   ]
  },
  {
   "cell_type": "code",
   "execution_count": 38,
   "metadata": {},
   "outputs": [],
   "source": [
    "df6[\"c/1000\"] = df6[\"num_casos\"] / df6[\"poblacion\"] * 1000\n",
    "df6[\"c/1000\"] = df6[\"c/1000\"].apply(lambda x : round(x,5))\n",
    "df6[\"c/10000\"] = df6[\"num_casos\"] / df6[\"poblacion\"] * 10000\n",
    "df6[\"c/10000\"] = df6[\"c/10000\"].apply(lambda x : round(x,5))\n",
    "df6[\"c/100000\"] = df6[\"num_casos\"] / df6[\"poblacion\"] * 100000\n",
    "df6[\"c/100000\"] = df6[\"c/100000\"].apply(lambda x : round(x,5))"
   ]
  },
  {
   "cell_type": "code",
   "execution_count": 39,
   "metadata": {},
   "outputs": [
    {
     "data": {
      "text/html": [
       "<div>\n",
       "<style scoped>\n",
       "    .dataframe tbody tr th:only-of-type {\n",
       "        vertical-align: middle;\n",
       "    }\n",
       "\n",
       "    .dataframe tbody tr th {\n",
       "        vertical-align: top;\n",
       "    }\n",
       "\n",
       "    .dataframe thead th {\n",
       "        text-align: right;\n",
       "    }\n",
       "</style>\n",
       "<table border=\"1\" class=\"dataframe\">\n",
       "  <thead>\n",
       "    <tr style=\"text-align: right;\">\n",
       "      <th></th>\n",
       "      <th>sexo</th>\n",
       "      <th>anio</th>\n",
       "      <th>edad</th>\n",
       "      <th>codigo_depto</th>\n",
       "      <th>nombre_depto</th>\n",
       "      <th>codigo_evento</th>\n",
       "      <th>evento</th>\n",
       "      <th>num_casos</th>\n",
       "      <th>poblacion</th>\n",
       "      <th>c/1000</th>\n",
       "      <th>c/10000</th>\n",
       "      <th>c/100000</th>\n",
       "    </tr>\n",
       "  </thead>\n",
       "  <tbody>\n",
       "    <tr>\n",
       "      <th>0</th>\n",
       "      <td>Hombres</td>\n",
       "      <td>2010</td>\n",
       "      <td>0-4 años</td>\n",
       "      <td>5</td>\n",
       "      <td>Antioquia</td>\n",
       "      <td>101</td>\n",
       "      <td>ENFERMEDADES INFECCIOSAS INTESTINALES</td>\n",
       "      <td>1</td>\n",
       "      <td>259110</td>\n",
       "      <td>0.00386</td>\n",
       "      <td>0.03859</td>\n",
       "      <td>0.38594</td>\n",
       "    </tr>\n",
       "    <tr>\n",
       "      <th>1</th>\n",
       "      <td>Hombres</td>\n",
       "      <td>2010</td>\n",
       "      <td>0-4 años</td>\n",
       "      <td>5</td>\n",
       "      <td>Antioquia</td>\n",
       "      <td>103</td>\n",
       "      <td>CIERTAS ENF. TRANSMITIDAS POR VECTORES Y RABIA</td>\n",
       "      <td>1</td>\n",
       "      <td>259110</td>\n",
       "      <td>0.00386</td>\n",
       "      <td>0.03859</td>\n",
       "      <td>0.38594</td>\n",
       "    </tr>\n",
       "    <tr>\n",
       "      <th>2</th>\n",
       "      <td>Hombres</td>\n",
       "      <td>2010</td>\n",
       "      <td>0-4 años</td>\n",
       "      <td>5</td>\n",
       "      <td>Antioquia</td>\n",
       "      <td>105</td>\n",
       "      <td>MENINGITIS</td>\n",
       "      <td>2</td>\n",
       "      <td>259110</td>\n",
       "      <td>0.00772</td>\n",
       "      <td>0.07719</td>\n",
       "      <td>0.77187</td>\n",
       "    </tr>\n",
       "    <tr>\n",
       "      <th>3</th>\n",
       "      <td>Hombres</td>\n",
       "      <td>2010</td>\n",
       "      <td>0-4 años</td>\n",
       "      <td>5</td>\n",
       "      <td>Antioquia</td>\n",
       "      <td>106</td>\n",
       "      <td>SEPTICEMIA</td>\n",
       "      <td>1</td>\n",
       "      <td>259110</td>\n",
       "      <td>0.00386</td>\n",
       "      <td>0.03859</td>\n",
       "      <td>0.38594</td>\n",
       "    </tr>\n",
       "    <tr>\n",
       "      <th>4</th>\n",
       "      <td>Hombres</td>\n",
       "      <td>2010</td>\n",
       "      <td>0-4 años</td>\n",
       "      <td>5</td>\n",
       "      <td>Antioquia</td>\n",
       "      <td>109</td>\n",
       "      <td>INFECCIONES RESPIRATORIAS AGUDAS</td>\n",
       "      <td>9</td>\n",
       "      <td>259110</td>\n",
       "      <td>0.03473</td>\n",
       "      <td>0.34734</td>\n",
       "      <td>3.47343</td>\n",
       "    </tr>\n",
       "    <tr>\n",
       "      <th>...</th>\n",
       "      <td>...</td>\n",
       "      <td>...</td>\n",
       "      <td>...</td>\n",
       "      <td>...</td>\n",
       "      <td>...</td>\n",
       "      <td>...</td>\n",
       "      <td>...</td>\n",
       "      <td>...</td>\n",
       "      <td>...</td>\n",
       "      <td>...</td>\n",
       "      <td>...</td>\n",
       "      <td>...</td>\n",
       "    </tr>\n",
       "    <tr>\n",
       "      <th>44864</th>\n",
       "      <td>Mujeres</td>\n",
       "      <td>2017</td>\n",
       "      <td>45-64 años</td>\n",
       "      <td>99</td>\n",
       "      <td>Vichada</td>\n",
       "      <td>213</td>\n",
       "      <td>RESIDUO DE TUMORES MALIGNOS</td>\n",
       "      <td>1</td>\n",
       "      <td>9805</td>\n",
       "      <td>0.10199</td>\n",
       "      <td>1.01989</td>\n",
       "      <td>10.19888</td>\n",
       "    </tr>\n",
       "    <tr>\n",
       "      <th>44865</th>\n",
       "      <td>Mujeres</td>\n",
       "      <td>2017</td>\n",
       "      <td>45-64 años</td>\n",
       "      <td>99</td>\n",
       "      <td>Vichada</td>\n",
       "      <td>214</td>\n",
       "      <td>CARCINOMA IN-SITU, T. BENIGNOS Y DE COMPORTAM....</td>\n",
       "      <td>3</td>\n",
       "      <td>9805</td>\n",
       "      <td>0.30597</td>\n",
       "      <td>3.05966</td>\n",
       "      <td>30.59663</td>\n",
       "    </tr>\n",
       "    <tr>\n",
       "      <th>44866</th>\n",
       "      <td>Mujeres</td>\n",
       "      <td>2017</td>\n",
       "      <td>45-64 años</td>\n",
       "      <td>99</td>\n",
       "      <td>Vichada</td>\n",
       "      <td>303</td>\n",
       "      <td>ENFERMEDADES ISQUEMICAS DEL CORAZON</td>\n",
       "      <td>1</td>\n",
       "      <td>9805</td>\n",
       "      <td>0.10199</td>\n",
       "      <td>1.01989</td>\n",
       "      <td>10.19888</td>\n",
       "    </tr>\n",
       "    <tr>\n",
       "      <th>44867</th>\n",
       "      <td>Mujeres</td>\n",
       "      <td>2017</td>\n",
       "      <td>45-64 años</td>\n",
       "      <td>99</td>\n",
       "      <td>Vichada</td>\n",
       "      <td>612</td>\n",
       "      <td>ENFERMEDADES SISTEMA URINARIO</td>\n",
       "      <td>1</td>\n",
       "      <td>9805</td>\n",
       "      <td>0.10199</td>\n",
       "      <td>1.01989</td>\n",
       "      <td>10.19888</td>\n",
       "    </tr>\n",
       "    <tr>\n",
       "      <th>44868</th>\n",
       "      <td>Mujeres</td>\n",
       "      <td>2017</td>\n",
       "      <td>5-14 años</td>\n",
       "      <td>99</td>\n",
       "      <td>Vichada</td>\n",
       "      <td>506</td>\n",
       "      <td>AHOGAMIENTO Y SUMERSION ACCIDENTALES</td>\n",
       "      <td>1</td>\n",
       "      <td>9301</td>\n",
       "      <td>0.10752</td>\n",
       "      <td>1.07515</td>\n",
       "      <td>10.75153</td>\n",
       "    </tr>\n",
       "  </tbody>\n",
       "</table>\n",
       "<p>44869 rows × 12 columns</p>\n",
       "</div>"
      ],
      "text/plain": [
       "          sexo  anio        edad  codigo_depto nombre_depto  codigo_evento  \\\n",
       "0      Hombres  2010    0-4 años             5    Antioquia            101   \n",
       "1      Hombres  2010    0-4 años             5    Antioquia            103   \n",
       "2      Hombres  2010    0-4 años             5    Antioquia            105   \n",
       "3      Hombres  2010    0-4 años             5    Antioquia            106   \n",
       "4      Hombres  2010    0-4 años             5    Antioquia            109   \n",
       "...        ...   ...         ...           ...          ...            ...   \n",
       "44864  Mujeres  2017  45-64 años            99      Vichada            213   \n",
       "44865  Mujeres  2017  45-64 años            99      Vichada            214   \n",
       "44866  Mujeres  2017  45-64 años            99      Vichada            303   \n",
       "44867  Mujeres  2017  45-64 años            99      Vichada            612   \n",
       "44868  Mujeres  2017   5-14 años            99      Vichada            506   \n",
       "\n",
       "                                                  evento  num_casos  \\\n",
       "0                  ENFERMEDADES INFECCIOSAS INTESTINALES          1   \n",
       "1         CIERTAS ENF. TRANSMITIDAS POR VECTORES Y RABIA          1   \n",
       "2                                             MENINGITIS          2   \n",
       "3                                             SEPTICEMIA          1   \n",
       "4                       INFECCIONES RESPIRATORIAS AGUDAS          9   \n",
       "...                                                  ...        ...   \n",
       "44864                        RESIDUO DE TUMORES MALIGNOS          1   \n",
       "44865  CARCINOMA IN-SITU, T. BENIGNOS Y DE COMPORTAM....          3   \n",
       "44866                ENFERMEDADES ISQUEMICAS DEL CORAZON          1   \n",
       "44867                      ENFERMEDADES SISTEMA URINARIO          1   \n",
       "44868               AHOGAMIENTO Y SUMERSION ACCIDENTALES          1   \n",
       "\n",
       "       poblacion   c/1000  c/10000  c/100000  \n",
       "0         259110  0.00386  0.03859   0.38594  \n",
       "1         259110  0.00386  0.03859   0.38594  \n",
       "2         259110  0.00772  0.07719   0.77187  \n",
       "3         259110  0.00386  0.03859   0.38594  \n",
       "4         259110  0.03473  0.34734   3.47343  \n",
       "...          ...      ...      ...       ...  \n",
       "44864       9805  0.10199  1.01989  10.19888  \n",
       "44865       9805  0.30597  3.05966  30.59663  \n",
       "44866       9805  0.10199  1.01989  10.19888  \n",
       "44867       9805  0.10199  1.01989  10.19888  \n",
       "44868       9301  0.10752  1.07515  10.75153  \n",
       "\n",
       "[44869 rows x 12 columns]"
      ]
     },
     "execution_count": 39,
     "metadata": {},
     "output_type": "execute_result"
    }
   ],
   "source": [
    "df6"
   ]
  },
  {
   "cell_type": "markdown",
   "metadata": {},
   "source": [
    "Ahora si numero de casos y población pueden ser dropeados"
   ]
  },
  {
   "cell_type": "code",
   "execution_count": 40,
   "metadata": {},
   "outputs": [],
   "source": [
    "df6 = df6.drop(columns=['num_casos','poblacion'])"
   ]
  },
  {
   "cell_type": "markdown",
   "metadata": {},
   "source": [
    "Guardamos"
   ]
  },
  {
   "cell_type": "code",
   "execution_count": 41,
   "metadata": {},
   "outputs": [],
   "source": [
    "df6.to_csv('data_deptos.csv', index = False)"
   ]
  },
  {
   "cell_type": "markdown",
   "metadata": {},
   "source": [
    "# Perfilamiento"
   ]
  },
  {
   "cell_type": "code",
   "execution_count": 42,
   "metadata": {
    "scrolled": false
   },
   "outputs": [],
   "source": [
    "#df['sexo'].value_counts()"
   ]
  },
  {
   "cell_type": "code",
   "execution_count": 43,
   "metadata": {},
   "outputs": [],
   "source": [
    "#df.groupby(by='sexo')['num_casos'].sum()"
   ]
  },
  {
   "cell_type": "code",
   "execution_count": 44,
   "metadata": {},
   "outputs": [],
   "source": [
    "#df.groupby(by='evento')['num_casos'].sum().sort_values()"
   ]
  },
  {
   "cell_type": "code",
   "execution_count": 45,
   "metadata": {},
   "outputs": [],
   "source": [
    "#df.loc[df['sexo']=='Indeterminado']['evento'].value_counts()"
   ]
  },
  {
   "cell_type": "code",
   "execution_count": 46,
   "metadata": {},
   "outputs": [],
   "source": [
    "#df.groupby(by='edad')['num_casos'].sum().sort_values()"
   ]
  },
  {
   "cell_type": "code",
   "execution_count": 47,
   "metadata": {},
   "outputs": [],
   "source": [
    "#df.groupby(by='nombre_depto')['num_casos'].sum().sort_values()"
   ]
  }
 ],
 "metadata": {
  "interpreter": {
   "hash": "b3ba2566441a7c06988d0923437866b63cedc61552a5af99d1f4fb67d367b25f"
  },
  "kernelspec": {
   "display_name": "Python 3 (ipykernel)",
   "language": "python",
   "name": "python3"
  },
  "language_info": {
   "codemirror_mode": {
    "name": "ipython",
    "version": 3
   },
   "file_extension": ".py",
   "mimetype": "text/x-python",
   "name": "python",
   "nbconvert_exporter": "python",
   "pygments_lexer": "ipython3",
   "version": "3.8.8"
  },
  "toc": {
   "base_numbering": 1,
   "nav_menu": {},
   "number_sections": true,
   "sideBar": true,
   "skip_h1_title": false,
   "title_cell": "Table of Contents",
   "title_sidebar": "Contents",
   "toc_cell": false,
   "toc_position": {
    "height": "calc(100% - 180px)",
    "left": "10px",
    "top": "150px",
    "width": "187px"
   },
   "toc_section_display": true,
   "toc_window_display": true
  }
 },
 "nbformat": 4,
 "nbformat_minor": 2
}
