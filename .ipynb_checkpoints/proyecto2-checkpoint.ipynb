{
 "cells": [
  {
   "cell_type": "code",
   "execution_count": 1,
   "metadata": {},
   "outputs": [],
   "source": [
    "import pandas as pd\n",
    "import numpy as np\n",
    "import csv"
   ]
  },
  {
   "cell_type": "code",
   "execution_count": 2,
   "metadata": {},
   "outputs": [
    {
     "name": "stderr",
     "output_type": "stream",
     "text": [
      "C:\\Users\\user\\anaconda3\\lib\\site-packages\\IPython\\core\\interactiveshell.py:3169: DtypeWarning: Columns (1) have mixed types.Specify dtype option on import or set low_memory=False.\n",
      "  has_raised = await self.run_ast_nodes(code_ast.body, cell_name,\n"
     ]
    }
   ],
   "source": [
    "df = pd.read_csv('data/data_2010_2017.csv', sep=',', index_col=False)"
   ]
  },
  {
   "cell_type": "code",
   "execution_count": 3,
   "metadata": {},
   "outputs": [
    {
     "data": {
      "text/html": [
       "<div>\n",
       "<style scoped>\n",
       "    .dataframe tbody tr th:only-of-type {\n",
       "        vertical-align: middle;\n",
       "    }\n",
       "\n",
       "    .dataframe tbody tr th {\n",
       "        vertical-align: top;\n",
       "    }\n",
       "\n",
       "    .dataframe thead th {\n",
       "        text-align: right;\n",
       "    }\n",
       "</style>\n",
       "<table border=\"1\" class=\"dataframe\">\n",
       "  <thead>\n",
       "    <tr style=\"text-align: right;\">\n",
       "      <th></th>\n",
       "      <th>anio</th>\n",
       "      <th>codigo_depto</th>\n",
       "      <th>nombre_depto</th>\n",
       "      <th>nombre_muni</th>\n",
       "      <th>codigo_muni</th>\n",
       "      <th>codigo_evento</th>\n",
       "      <th>evento</th>\n",
       "      <th>edad</th>\n",
       "      <th>sexo</th>\n",
       "      <th>num_casos</th>\n",
       "    </tr>\n",
       "  </thead>\n",
       "  <tbody>\n",
       "    <tr>\n",
       "      <th>0</th>\n",
       "      <td>2010</td>\n",
       "      <td>TOTAL</td>\n",
       "      <td>TOTAL</td>\n",
       "      <td>TOTAL</td>\n",
       "      <td>TOTAL</td>\n",
       "      <td>TOTAL</td>\n",
       "      <td>TOTAL</td>\n",
       "      <td>TOTAL</td>\n",
       "      <td>TOTAL</td>\n",
       "      <td>200524.0</td>\n",
       "    </tr>\n",
       "    <tr>\n",
       "      <th>1</th>\n",
       "      <td>2010</td>\n",
       "      <td>TOTAL</td>\n",
       "      <td>TOTAL</td>\n",
       "      <td>TOTAL</td>\n",
       "      <td>TOTAL</td>\n",
       "      <td>TOTAL</td>\n",
       "      <td>TOTAL</td>\n",
       "      <td>TOTAL</td>\n",
       "      <td>Hombres</td>\n",
       "      <td>114264.0</td>\n",
       "    </tr>\n",
       "    <tr>\n",
       "      <th>2</th>\n",
       "      <td>2010</td>\n",
       "      <td>TOTAL</td>\n",
       "      <td>TOTAL</td>\n",
       "      <td>TOTAL</td>\n",
       "      <td>TOTAL</td>\n",
       "      <td>TOTAL</td>\n",
       "      <td>TOTAL</td>\n",
       "      <td>TOTAL</td>\n",
       "      <td>Mujeres</td>\n",
       "      <td>86250.0</td>\n",
       "    </tr>\n",
       "    <tr>\n",
       "      <th>3</th>\n",
       "      <td>2010</td>\n",
       "      <td>TOTAL</td>\n",
       "      <td>TOTAL</td>\n",
       "      <td>TOTAL</td>\n",
       "      <td>TOTAL</td>\n",
       "      <td>TOTAL</td>\n",
       "      <td>TOTAL</td>\n",
       "      <td>TOTAL</td>\n",
       "      <td>Indeterminado</td>\n",
       "      <td>10.0</td>\n",
       "    </tr>\n",
       "    <tr>\n",
       "      <th>4</th>\n",
       "      <td>2010</td>\n",
       "      <td>TOTAL</td>\n",
       "      <td>TOTAL</td>\n",
       "      <td>TOTAL</td>\n",
       "      <td>TOTAL</td>\n",
       "      <td>TOTAL</td>\n",
       "      <td>TOTAL</td>\n",
       "      <td>Menor 1 año</td>\n",
       "      <td>Hombres</td>\n",
       "      <td>4745.0</td>\n",
       "    </tr>\n",
       "  </tbody>\n",
       "</table>\n",
       "</div>"
      ],
      "text/plain": [
       "   anio codigo_depto nombre_depto nombre_muni codigo_muni codigo_evento  \\\n",
       "0  2010        TOTAL        TOTAL       TOTAL       TOTAL         TOTAL   \n",
       "1  2010        TOTAL        TOTAL       TOTAL       TOTAL         TOTAL   \n",
       "2  2010        TOTAL        TOTAL       TOTAL       TOTAL         TOTAL   \n",
       "3  2010        TOTAL        TOTAL       TOTAL       TOTAL         TOTAL   \n",
       "4  2010        TOTAL        TOTAL       TOTAL       TOTAL         TOTAL   \n",
       "\n",
       "  evento         edad           sexo  num_casos  \n",
       "0  TOTAL        TOTAL          TOTAL   200524.0  \n",
       "1  TOTAL        TOTAL        Hombres   114264.0  \n",
       "2  TOTAL        TOTAL        Mujeres    86250.0  \n",
       "3  TOTAL        TOTAL  Indeterminado       10.0  \n",
       "4  TOTAL  Menor 1 año        Hombres     4745.0  "
      ]
     },
     "execution_count": 3,
     "metadata": {},
     "output_type": "execute_result"
    }
   ],
   "source": [
    "df.head()"
   ]
  },
  {
   "cell_type": "code",
   "execution_count": 4,
   "metadata": {},
   "outputs": [],
   "source": [
    "df = df.drop(df[df['codigo_depto']=='TOTAL'].index)\n",
    "df = df.drop(df[df['nombre_depto']=='TOTAL'].index)\n",
    "df = df.drop(df[df['nombre_muni']=='TOTAL'].index)\n",
    "df = df.drop(df[df['codigo_muni']=='TOTAL'].index)\n",
    "df = df.drop(df[df['codigo_evento']=='TOTAL'].index)\n",
    "df = df.drop(df[df['evento']=='TOTAL'].index)\n",
    "df = df.drop(df[df['edad']=='TOTAL'].index)\n",
    "df = df.drop(df[df['sexo']=='TOTAL'].index)\n"
   ]
  },
  {
   "cell_type": "code",
   "execution_count": 5,
   "metadata": {},
   "outputs": [
    {
     "data": {
      "text/html": [
       "<div>\n",
       "<style scoped>\n",
       "    .dataframe tbody tr th:only-of-type {\n",
       "        vertical-align: middle;\n",
       "    }\n",
       "\n",
       "    .dataframe tbody tr th {\n",
       "        vertical-align: top;\n",
       "    }\n",
       "\n",
       "    .dataframe thead th {\n",
       "        text-align: right;\n",
       "    }\n",
       "</style>\n",
       "<table border=\"1\" class=\"dataframe\">\n",
       "  <thead>\n",
       "    <tr style=\"text-align: right;\">\n",
       "      <th></th>\n",
       "      <th>anio</th>\n",
       "      <th>codigo_depto</th>\n",
       "      <th>nombre_depto</th>\n",
       "      <th>nombre_muni</th>\n",
       "      <th>codigo_muni</th>\n",
       "      <th>codigo_evento</th>\n",
       "      <th>evento</th>\n",
       "      <th>edad</th>\n",
       "      <th>sexo</th>\n",
       "      <th>num_casos</th>\n",
       "    </tr>\n",
       "  </thead>\n",
       "  <tbody>\n",
       "    <tr>\n",
       "      <th>1750</th>\n",
       "      <td>2010</td>\n",
       "      <td>05</td>\n",
       "      <td>Antioquia</td>\n",
       "      <td>Medellín</td>\n",
       "      <td>05001</td>\n",
       "      <td>101</td>\n",
       "      <td>ENFERMEDADES INFECCIOSAS INTESTINALES</td>\n",
       "      <td>De 15-44 años</td>\n",
       "      <td>Hombres</td>\n",
       "      <td>2.0</td>\n",
       "    </tr>\n",
       "    <tr>\n",
       "      <th>1751</th>\n",
       "      <td>2010</td>\n",
       "      <td>05</td>\n",
       "      <td>Antioquia</td>\n",
       "      <td>Medellín</td>\n",
       "      <td>05001</td>\n",
       "      <td>101</td>\n",
       "      <td>ENFERMEDADES INFECCIOSAS INTESTINALES</td>\n",
       "      <td>De 15-44 años</td>\n",
       "      <td>Mujeres</td>\n",
       "      <td>2.0</td>\n",
       "    </tr>\n",
       "    <tr>\n",
       "      <th>1752</th>\n",
       "      <td>2010</td>\n",
       "      <td>05</td>\n",
       "      <td>Antioquia</td>\n",
       "      <td>Medellín</td>\n",
       "      <td>05001</td>\n",
       "      <td>101</td>\n",
       "      <td>ENFERMEDADES INFECCIOSAS INTESTINALES</td>\n",
       "      <td>De 45-64 años</td>\n",
       "      <td>Hombres</td>\n",
       "      <td>7.0</td>\n",
       "    </tr>\n",
       "    <tr>\n",
       "      <th>1753</th>\n",
       "      <td>2010</td>\n",
       "      <td>05</td>\n",
       "      <td>Antioquia</td>\n",
       "      <td>Medellín</td>\n",
       "      <td>05001</td>\n",
       "      <td>101</td>\n",
       "      <td>ENFERMEDADES INFECCIOSAS INTESTINALES</td>\n",
       "      <td>De 45-64 años</td>\n",
       "      <td>Mujeres</td>\n",
       "      <td>5.0</td>\n",
       "    </tr>\n",
       "    <tr>\n",
       "      <th>1754</th>\n",
       "      <td>2010</td>\n",
       "      <td>05</td>\n",
       "      <td>Antioquia</td>\n",
       "      <td>Medellín</td>\n",
       "      <td>05001</td>\n",
       "      <td>101</td>\n",
       "      <td>ENFERMEDADES INFECCIOSAS INTESTINALES</td>\n",
       "      <td>De 65 y más</td>\n",
       "      <td>Hombres</td>\n",
       "      <td>12.0</td>\n",
       "    </tr>\n",
       "  </tbody>\n",
       "</table>\n",
       "</div>"
      ],
      "text/plain": [
       "      anio codigo_depto nombre_depto nombre_muni codigo_muni codigo_evento  \\\n",
       "1750  2010           05    Antioquia    Medellín       05001           101   \n",
       "1751  2010           05    Antioquia    Medellín       05001           101   \n",
       "1752  2010           05    Antioquia    Medellín       05001           101   \n",
       "1753  2010           05    Antioquia    Medellín       05001           101   \n",
       "1754  2010           05    Antioquia    Medellín       05001           101   \n",
       "\n",
       "                                     evento           edad     sexo  num_casos  \n",
       "1750  ENFERMEDADES INFECCIOSAS INTESTINALES  De 15-44 años  Hombres        2.0  \n",
       "1751  ENFERMEDADES INFECCIOSAS INTESTINALES  De 15-44 años  Mujeres        2.0  \n",
       "1752  ENFERMEDADES INFECCIOSAS INTESTINALES  De 45-64 años  Hombres        7.0  \n",
       "1753  ENFERMEDADES INFECCIOSAS INTESTINALES  De 45-64 años  Mujeres        5.0  \n",
       "1754  ENFERMEDADES INFECCIOSAS INTESTINALES    De 65 y más  Hombres       12.0  "
      ]
     },
     "execution_count": 5,
     "metadata": {},
     "output_type": "execute_result"
    }
   ],
   "source": [
    "df.head()"
   ]
  },
  {
   "cell_type": "code",
   "execution_count": 6,
   "metadata": {},
   "outputs": [
    {
     "name": "stdout",
     "output_type": "stream",
     "text": [
      "<class 'pandas.core.frame.DataFrame'>\n",
      "Int64Index: 464634 entries, 1750 to 1244983\n",
      "Data columns (total 10 columns):\n",
      " #   Column         Non-Null Count   Dtype  \n",
      "---  ------         --------------   -----  \n",
      " 0   anio           464634 non-null  int64  \n",
      " 1   codigo_depto   464634 non-null  object \n",
      " 2   nombre_depto   464634 non-null  object \n",
      " 3   nombre_muni    464634 non-null  object \n",
      " 4   codigo_muni    464634 non-null  object \n",
      " 5   codigo_evento  464634 non-null  object \n",
      " 6   evento         464634 non-null  object \n",
      " 7   edad           464634 non-null  object \n",
      " 8   sexo           464634 non-null  object \n",
      " 9   num_casos      464634 non-null  float64\n",
      "dtypes: float64(1), int64(1), object(8)\n",
      "memory usage: 55.1+ MB\n"
     ]
    }
   ],
   "source": [
    "df.info()"
   ]
  },
  {
   "cell_type": "code",
   "execution_count": 7,
   "metadata": {},
   "outputs": [
    {
     "data": {
      "text/plain": [
       "05             55605\n",
       "25             41758\n",
       "76             32919\n",
       "15             18155\n",
       "73             16210\n",
       "68             16083\n",
       "52             14958\n",
       "41             14752\n",
       "19             14466\n",
       "23             13828\n",
       "13             10914\n",
       "47             10427\n",
       "15             10377\n",
       "17             10332\n",
       "68             10261\n",
       "20              9418\n",
       "08              9346\n",
       "50              9018\n",
       "54              8189\n",
       "52              7300\n",
       "5               6983\n",
       "70              6729\n",
       "13              6512\n",
       "54              6363\n",
       "66              6349\n",
       "44              5932\n",
       "73              5725\n",
       "85              5625\n",
       "27              5483\n",
       "8               5228\n",
       "86              5067\n",
       "17              5001\n",
       "63              4757\n",
       "18              4754\n",
       "19              4635\n",
       "23              4146\n",
       "70              4104\n",
       "66              3908\n",
       "81              3833\n",
       "47              3067\n",
       "20              3039\n",
       "63              2807\n",
       "11              2579\n",
       "50              2503\n",
       "41              1749\n",
       "Extranjeros     1748\n",
       "11              1600\n",
       "18              1557\n",
       "95              1383\n",
       "44              1217\n",
       "91              1135\n",
       "99              1024\n",
       "88               963\n",
       "97               639\n",
       "94               619\n",
       "25               576\n",
       "27               567\n",
       "76               412\n",
       "Name: codigo_depto, dtype: int64"
      ]
     },
     "execution_count": 7,
     "metadata": {},
     "output_type": "execute_result"
    }
   ],
   "source": [
    "df['codigo_depto'].value_counts()\n"
   ]
  },
  {
   "cell_type": "code",
   "execution_count": 8,
   "metadata": {},
   "outputs": [],
   "source": [
    "df['anio'] = df['anio'].astype('int64')\n",
    "df['codigo_depto'] = df['codigo_depto'].astype('string')\n",
    "df['nombre_depto'] = df['nombre_depto'].astype('string')\n",
    "df['nombre_muni'] = df['nombre_muni'].astype('string')\n",
    "df['codigo_muni'] = df['codigo_muni'].astype('int64')\n",
    "df['codigo_evento'] = df['codigo_evento'].astype('int64')\n",
    "df['evento'] = df['evento'].astype('string')\n",
    "df['sexo'] = df['sexo'].astype('string')\n",
    "df['edad'] = df['edad'].astype('string')\n",
    "df['num_casos'] = df['num_casos'].astype('int64')\n",
    "\n",
    "\n"
   ]
  },
  {
   "cell_type": "code",
   "execution_count": 9,
   "metadata": {},
   "outputs": [
    {
     "name": "stdout",
     "output_type": "stream",
     "text": [
      "<class 'pandas.core.frame.DataFrame'>\n",
      "Int64Index: 464634 entries, 1750 to 1244983\n",
      "Data columns (total 10 columns):\n",
      " #   Column         Non-Null Count   Dtype \n",
      "---  ------         --------------   ----- \n",
      " 0   anio           464634 non-null  int64 \n",
      " 1   codigo_depto   464634 non-null  string\n",
      " 2   nombre_depto   464634 non-null  string\n",
      " 3   nombre_muni    464634 non-null  string\n",
      " 4   codigo_muni    464634 non-null  int64 \n",
      " 5   codigo_evento  464634 non-null  int64 \n",
      " 6   evento         464634 non-null  string\n",
      " 7   edad           464634 non-null  string\n",
      " 8   sexo           464634 non-null  string\n",
      " 9   num_casos      464634 non-null  int64 \n",
      "dtypes: int64(4), string(6)\n",
      "memory usage: 55.1 MB\n"
     ]
    }
   ],
   "source": [
    "df.info()"
   ]
  },
  {
   "cell_type": "code",
   "execution_count": 10,
   "metadata": {},
   "outputs": [
    {
     "data": {
      "text/plain": [
       "anio             0\n",
       "codigo_depto     0\n",
       "nombre_depto     0\n",
       "nombre_muni      0\n",
       "codigo_muni      0\n",
       "codigo_evento    0\n",
       "evento           0\n",
       "edad             0\n",
       "sexo             0\n",
       "num_casos        0\n",
       "dtype: int64"
      ]
     },
     "execution_count": 10,
     "metadata": {},
     "output_type": "execute_result"
    }
   ],
   "source": [
    "df.isna().sum()"
   ]
  },
  {
   "cell_type": "code",
   "execution_count": 11,
   "metadata": {},
   "outputs": [
    {
     "data": {
      "text/plain": [
       "Hombres          255539\n",
       "Mujeres          209009\n",
       "Indeterminado        86\n",
       "Name: sexo, dtype: Int64"
      ]
     },
     "execution_count": 11,
     "metadata": {},
     "output_type": "execute_result"
    }
   ],
   "source": [
    "df['sexo'].value_counts()"
   ]
  },
  {
   "cell_type": "code",
   "execution_count": 12,
   "metadata": {},
   "outputs": [
    {
     "data": {
      "text/plain": [
       "sexo\n",
       "Hombres          882382\n",
       "Indeterminado        99\n",
       "Mujeres          705439\n",
       "Name: num_casos, dtype: int64"
      ]
     },
     "execution_count": 12,
     "metadata": {},
     "output_type": "execute_result"
    }
   ],
   "source": [
    "df.groupby(by='sexo')['num_casos'].sum()"
   ]
  },
  {
   "cell_type": "code",
   "execution_count": 13,
   "metadata": {},
   "outputs": [
    {
     "data": {
      "text/plain": [
       "evento\n",
       "PARO CARDIACO                                                148\n",
       "ENF. HEMOLITICA DEL FETO Y DEL RECIEN N. Y KERNICTERUS       168\n",
       "INFECC. CON MODO DE TRANSM. PREDOM./. SEXUAL                 267\n",
       "ACC. CAUSADOS POR DISPARO DE ARMAS DE FUEGO                  305\n",
       "OTRAS ENF. DE LAS VIAS RESPIRATORIAS SUPERIORES              331\n",
       "                                                           ...  \n",
       "INFECCIONES RESPIRATORIAS AGUDAS                           58854\n",
       "ENF. CRONICAS VIAS REPIRATORIAS INFERIORES                 95221\n",
       "AGRESIONES (HOMICIDIOS), INCLUSIVE SECUELAS               100943\n",
       "ENFERMEDADES CEREBROVASCULARES                            109875\n",
       "ENFERMEDADES ISQUEMICAS DEL CORAZON                       256804\n",
       "Name: num_casos, Length: 72, dtype: int64"
      ]
     },
     "execution_count": 13,
     "metadata": {},
     "output_type": "execute_result"
    }
   ],
   "source": [
    "df.groupby(by='evento')['num_casos'].sum().sort_values()"
   ]
  },
  {
   "cell_type": "code",
   "execution_count": 14,
   "metadata": {},
   "outputs": [
    {
     "data": {
      "text/plain": [
       "AGRESIONES (HOMICIDIOS), INCLUSIVE SECUELAS                        31\n",
       "SINTOMAS, SIGNOS Y AFECCIONES MAL DEFINIDAS                        19\n",
       "EVENTOS DE INTENCION NO DETERMINADA, INCL. SECUELAS                 7\n",
       "OTRAS AFECC. ORIGINADAS EN PERIODO PERINATAL                        5\n",
       "MALFORMACIONES CONGEN., DEFORMID.Y ANOMALIAS CROMOSOMICAS           4\n",
       "INTERVENCION LEGAL Y OPERAC. DE GUERRA, INCL. SECUELAS              4\n",
       "ACC. TRANSPORTE TERRESTRE, INCLUSIVE SECUELAS                       3\n",
       "TRAST. RESPIRATORIOS ESPECIFICOS DEL PERIODO PERINATAL              3\n",
       "FETO Y RECIEN N. AFECTADOS POR COMPL. OBST. Y TRAUM. NACIMIENTO     2\n",
       "OTROS ACCIDENTES, INCLUSIVE SECUELAS                                2\n",
       "AHOGAMIENTO Y SUMERSION ACCIDENTALES                                1\n",
       "ENF. HEMOLITICA DEL FETO Y DEL RECIEN N. Y KERNICTERUS              1\n",
       "LESIONES AUTOINFLIGIDAS INTENC.(SUICIDIOS), INCL. SECUELAS          1\n",
       "ENFERMEDADES ISQUEMICAS DEL CORAZON                                 1\n",
       "INFECC. CON MODO DE TRANSM. PREDOM./. SEXUAL                        1\n",
       "DEFICIENCIAS NUTRICIONALES Y ANEMIAS NUTRICIONALES                  1\n",
       "Name: evento, dtype: Int64"
      ]
     },
     "execution_count": 14,
     "metadata": {},
     "output_type": "execute_result"
    }
   ],
   "source": [
    "df.loc[df['sexo']=='Indeterminado']['evento'].value_counts()"
   ]
  },
  {
   "cell_type": "code",
   "execution_count": 15,
   "metadata": {},
   "outputs": [
    {
     "data": {
      "text/plain": [
       "edad\n",
       "Edad desconocida      1647\n",
       "De 100 y más          3868\n",
       "De 1-4 años          12292\n",
       "De 5-14 años         15894\n",
       "Menor 1 año          58835\n",
       "De 85-99 años       126621\n",
       "De 15-44 años       232707\n",
       "De 65-84 años       243131\n",
       "De 45-64 años       307836\n",
       "De 65 y más         585089\n",
       "Name: num_casos, dtype: int64"
      ]
     },
     "execution_count": 15,
     "metadata": {},
     "output_type": "execute_result"
    }
   ],
   "source": [
    "df.groupby(by='edad')['num_casos'].sum().sort_values()"
   ]
  },
  {
   "cell_type": "code",
   "execution_count": 16,
   "metadata": {},
   "outputs": [
    {
     "data": {
      "text/plain": [
       "nombre_depto\n",
       "Guainía                                        791\n",
       "Vaupés                                         796\n",
       "Vichada                                       1304\n",
       "Amazonas                                      1507\n",
       "Archipiélago de San Andrés y Providencia      1903\n",
       "Guaviare                                      2078\n",
       "Extranjeros                                   2655\n",
       "Arauca                                        7597\n",
       "Putumayo                                      7962\n",
       "Casanare                                      9397\n",
       "Chocó                                         9775\n",
       "Caquetá                                      12987\n",
       "La Guajira                                   13830\n",
       "Sucre                                        23961\n",
       "Quindío                                      26828\n",
       "Cesar                                        28749\n",
       "Meta                                         33229\n",
       "Magdalena                                    36571\n",
       "Huila                                        39584\n",
       "Cauca                                        40272\n",
       "Risaralda                                    41900\n",
       "Caldas                                       44267\n",
       "Córdoba                                      46514\n",
       "Boyacá                                       48935\n",
       "Nariño                                       49618\n",
       "Norte de Santander                           50620\n",
       "Bolívar                                      53125\n",
       "Tolima                                       61090\n",
       "Santander                                    76347\n",
       "Atlántico                                    77816\n",
       "Cundinamarca                                 89760\n",
       "Valle del Cauca                             189091\n",
       "Bogotá                                      228495\n",
       "Antioquia                                   228566\n",
       "Name: num_casos, dtype: int64"
      ]
     },
     "execution_count": 16,
     "metadata": {},
     "output_type": "execute_result"
    }
   ],
   "source": [
    "df.groupby(by='nombre_depto')['num_casos'].sum().sort_values()"
   ]
  },
  {
   "cell_type": "code",
   "execution_count": 18,
   "metadata": {},
   "outputs": [],
   "source": [
    "df.to_csv('data/pre_data_2010_2017.csv')"
   ]
  },
  {
   "cell_type": "markdown",
   "metadata": {},
   "source": [
    "a"
   ]
  }
 ],
 "metadata": {
  "interpreter": {
   "hash": "b3ba2566441a7c06988d0923437866b63cedc61552a5af99d1f4fb67d367b25f"
  },
  "kernelspec": {
   "display_name": "Python 3 (ipykernel)",
   "language": "python",
   "name": "python3"
  },
  "language_info": {
   "codemirror_mode": {
    "name": "ipython",
    "version": 3
   },
   "file_extension": ".py",
   "mimetype": "text/x-python",
   "name": "python",
   "nbconvert_exporter": "python",
   "pygments_lexer": "ipython3",
   "version": "3.8.8"
  },
  "toc": {
   "base_numbering": 1,
   "nav_menu": {},
   "number_sections": true,
   "sideBar": true,
   "skip_h1_title": false,
   "title_cell": "Table of Contents",
   "title_sidebar": "Contents",
   "toc_cell": false,
   "toc_position": {},
   "toc_section_display": true,
   "toc_window_display": true
  }
 },
 "nbformat": 4,
 "nbformat_minor": 2
}
