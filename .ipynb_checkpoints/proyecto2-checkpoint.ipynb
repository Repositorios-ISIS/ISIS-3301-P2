{
 "cells": [
  {
   "cell_type": "code",
   "execution_count": 1,
   "metadata": {},
   "outputs": [],
   "source": [
    "import pandas as pd\n",
    "import numpy as np\n",
    "import csv"
   ]
  },
  {
   "cell_type": "code",
   "execution_count": 2,
   "metadata": {},
   "outputs": [
    {
     "name": "stderr",
     "output_type": "stream",
     "text": [
      "C:\\Users\\user\\anaconda3\\lib\\site-packages\\IPython\\core\\interactiveshell.py:3169: DtypeWarning: Columns (1) have mixed types.Specify dtype option on import or set low_memory=False.\n",
      "  has_raised = await self.run_ast_nodes(code_ast.body, cell_name,\n"
     ]
    }
   ],
   "source": [
    "df = pd.read_csv('data/data_2010_2017.csv', sep=',', index_col=False)"
   ]
  },
  {
   "cell_type": "code",
   "execution_count": 3,
   "metadata": {},
   "outputs": [
    {
     "data": {
      "text/html": [
       "<div>\n",
       "<style scoped>\n",
       "    .dataframe tbody tr th:only-of-type {\n",
       "        vertical-align: middle;\n",
       "    }\n",
       "\n",
       "    .dataframe tbody tr th {\n",
       "        vertical-align: top;\n",
       "    }\n",
       "\n",
       "    .dataframe thead th {\n",
       "        text-align: right;\n",
       "    }\n",
       "</style>\n",
       "<table border=\"1\" class=\"dataframe\">\n",
       "  <thead>\n",
       "    <tr style=\"text-align: right;\">\n",
       "      <th></th>\n",
       "      <th>anio</th>\n",
       "      <th>codigo_depto</th>\n",
       "      <th>nombre_depto</th>\n",
       "      <th>nombre_muni</th>\n",
       "      <th>codigo_muni</th>\n",
       "      <th>codigo_evento</th>\n",
       "      <th>evento</th>\n",
       "      <th>edad</th>\n",
       "      <th>sexo</th>\n",
       "      <th>num_casos</th>\n",
       "    </tr>\n",
       "  </thead>\n",
       "  <tbody>\n",
       "    <tr>\n",
       "      <th>0</th>\n",
       "      <td>2010</td>\n",
       "      <td>TOTAL</td>\n",
       "      <td>TOTAL</td>\n",
       "      <td>TOTAL</td>\n",
       "      <td>TOTAL</td>\n",
       "      <td>TOTAL</td>\n",
       "      <td>TOTAL</td>\n",
       "      <td>TOTAL</td>\n",
       "      <td>TOTAL</td>\n",
       "      <td>200524.0</td>\n",
       "    </tr>\n",
       "    <tr>\n",
       "      <th>1</th>\n",
       "      <td>2010</td>\n",
       "      <td>TOTAL</td>\n",
       "      <td>TOTAL</td>\n",
       "      <td>TOTAL</td>\n",
       "      <td>TOTAL</td>\n",
       "      <td>TOTAL</td>\n",
       "      <td>TOTAL</td>\n",
       "      <td>TOTAL</td>\n",
       "      <td>Hombres</td>\n",
       "      <td>114264.0</td>\n",
       "    </tr>\n",
       "    <tr>\n",
       "      <th>2</th>\n",
       "      <td>2010</td>\n",
       "      <td>TOTAL</td>\n",
       "      <td>TOTAL</td>\n",
       "      <td>TOTAL</td>\n",
       "      <td>TOTAL</td>\n",
       "      <td>TOTAL</td>\n",
       "      <td>TOTAL</td>\n",
       "      <td>TOTAL</td>\n",
       "      <td>Mujeres</td>\n",
       "      <td>86250.0</td>\n",
       "    </tr>\n",
       "    <tr>\n",
       "      <th>3</th>\n",
       "      <td>2010</td>\n",
       "      <td>TOTAL</td>\n",
       "      <td>TOTAL</td>\n",
       "      <td>TOTAL</td>\n",
       "      <td>TOTAL</td>\n",
       "      <td>TOTAL</td>\n",
       "      <td>TOTAL</td>\n",
       "      <td>TOTAL</td>\n",
       "      <td>Indeterminado</td>\n",
       "      <td>10.0</td>\n",
       "    </tr>\n",
       "    <tr>\n",
       "      <th>4</th>\n",
       "      <td>2010</td>\n",
       "      <td>TOTAL</td>\n",
       "      <td>TOTAL</td>\n",
       "      <td>TOTAL</td>\n",
       "      <td>TOTAL</td>\n",
       "      <td>TOTAL</td>\n",
       "      <td>TOTAL</td>\n",
       "      <td>Menor 1 año</td>\n",
       "      <td>Hombres</td>\n",
       "      <td>4745.0</td>\n",
       "    </tr>\n",
       "  </tbody>\n",
       "</table>\n",
       "</div>"
      ],
      "text/plain": [
       "   anio codigo_depto nombre_depto nombre_muni codigo_muni codigo_evento  \\\n",
       "0  2010        TOTAL        TOTAL       TOTAL       TOTAL         TOTAL   \n",
       "1  2010        TOTAL        TOTAL       TOTAL       TOTAL         TOTAL   \n",
       "2  2010        TOTAL        TOTAL       TOTAL       TOTAL         TOTAL   \n",
       "3  2010        TOTAL        TOTAL       TOTAL       TOTAL         TOTAL   \n",
       "4  2010        TOTAL        TOTAL       TOTAL       TOTAL         TOTAL   \n",
       "\n",
       "  evento         edad           sexo  num_casos  \n",
       "0  TOTAL        TOTAL          TOTAL   200524.0  \n",
       "1  TOTAL        TOTAL        Hombres   114264.0  \n",
       "2  TOTAL        TOTAL        Mujeres    86250.0  \n",
       "3  TOTAL        TOTAL  Indeterminado       10.0  \n",
       "4  TOTAL  Menor 1 año        Hombres     4745.0  "
      ]
     },
     "execution_count": 3,
     "metadata": {},
     "output_type": "execute_result"
    }
   ],
   "source": [
    "df.head()"
   ]
  },
  {
   "cell_type": "code",
   "execution_count": 4,
   "metadata": {},
   "outputs": [],
   "source": [
    "df = df.drop(df[df['codigo_depto']=='TOTAL'].index)\n",
    "df = df.drop(df[df['nombre_depto']=='TOTAL'].index)\n",
    "df = df.drop(df[df['nombre_muni']=='TOTAL'].index)\n",
    "df = df.drop(df[df['codigo_muni']=='TOTAL'].index)\n",
    "df = df.drop(df[df['codigo_evento']=='TOTAL'].index)\n",
    "df = df.drop(df[df['evento']=='TOTAL'].index)\n",
    "df = df.drop(df[df['edad']=='TOTAL'].index)\n",
    "df = df.drop(df[df['sexo']=='TOTAL'].index)\n"
   ]
  },
  {
   "cell_type": "code",
   "execution_count": 5,
   "metadata": {},
   "outputs": [
    {
     "data": {
      "text/html": [
       "<div>\n",
       "<style scoped>\n",
       "    .dataframe tbody tr th:only-of-type {\n",
       "        vertical-align: middle;\n",
       "    }\n",
       "\n",
       "    .dataframe tbody tr th {\n",
       "        vertical-align: top;\n",
       "    }\n",
       "\n",
       "    .dataframe thead th {\n",
       "        text-align: right;\n",
       "    }\n",
       "</style>\n",
       "<table border=\"1\" class=\"dataframe\">\n",
       "  <thead>\n",
       "    <tr style=\"text-align: right;\">\n",
       "      <th></th>\n",
       "      <th>anio</th>\n",
       "      <th>codigo_depto</th>\n",
       "      <th>nombre_depto</th>\n",
       "      <th>nombre_muni</th>\n",
       "      <th>codigo_muni</th>\n",
       "      <th>codigo_evento</th>\n",
       "      <th>evento</th>\n",
       "      <th>edad</th>\n",
       "      <th>sexo</th>\n",
       "      <th>num_casos</th>\n",
       "    </tr>\n",
       "  </thead>\n",
       "  <tbody>\n",
       "    <tr>\n",
       "      <th>1750</th>\n",
       "      <td>2010</td>\n",
       "      <td>05</td>\n",
       "      <td>Antioquia</td>\n",
       "      <td>Medellín</td>\n",
       "      <td>05001</td>\n",
       "      <td>101</td>\n",
       "      <td>ENFERMEDADES INFECCIOSAS INTESTINALES</td>\n",
       "      <td>De 15-44 años</td>\n",
       "      <td>Hombres</td>\n",
       "      <td>2.0</td>\n",
       "    </tr>\n",
       "    <tr>\n",
       "      <th>1751</th>\n",
       "      <td>2010</td>\n",
       "      <td>05</td>\n",
       "      <td>Antioquia</td>\n",
       "      <td>Medellín</td>\n",
       "      <td>05001</td>\n",
       "      <td>101</td>\n",
       "      <td>ENFERMEDADES INFECCIOSAS INTESTINALES</td>\n",
       "      <td>De 15-44 años</td>\n",
       "      <td>Mujeres</td>\n",
       "      <td>2.0</td>\n",
       "    </tr>\n",
       "    <tr>\n",
       "      <th>1752</th>\n",
       "      <td>2010</td>\n",
       "      <td>05</td>\n",
       "      <td>Antioquia</td>\n",
       "      <td>Medellín</td>\n",
       "      <td>05001</td>\n",
       "      <td>101</td>\n",
       "      <td>ENFERMEDADES INFECCIOSAS INTESTINALES</td>\n",
       "      <td>De 45-64 años</td>\n",
       "      <td>Hombres</td>\n",
       "      <td>7.0</td>\n",
       "    </tr>\n",
       "    <tr>\n",
       "      <th>1753</th>\n",
       "      <td>2010</td>\n",
       "      <td>05</td>\n",
       "      <td>Antioquia</td>\n",
       "      <td>Medellín</td>\n",
       "      <td>05001</td>\n",
       "      <td>101</td>\n",
       "      <td>ENFERMEDADES INFECCIOSAS INTESTINALES</td>\n",
       "      <td>De 45-64 años</td>\n",
       "      <td>Mujeres</td>\n",
       "      <td>5.0</td>\n",
       "    </tr>\n",
       "    <tr>\n",
       "      <th>1754</th>\n",
       "      <td>2010</td>\n",
       "      <td>05</td>\n",
       "      <td>Antioquia</td>\n",
       "      <td>Medellín</td>\n",
       "      <td>05001</td>\n",
       "      <td>101</td>\n",
       "      <td>ENFERMEDADES INFECCIOSAS INTESTINALES</td>\n",
       "      <td>De 65 y más</td>\n",
       "      <td>Hombres</td>\n",
       "      <td>12.0</td>\n",
       "    </tr>\n",
       "  </tbody>\n",
       "</table>\n",
       "</div>"
      ],
      "text/plain": [
       "      anio codigo_depto nombre_depto nombre_muni codigo_muni codigo_evento  \\\n",
       "1750  2010           05    Antioquia    Medellín       05001           101   \n",
       "1751  2010           05    Antioquia    Medellín       05001           101   \n",
       "1752  2010           05    Antioquia    Medellín       05001           101   \n",
       "1753  2010           05    Antioquia    Medellín       05001           101   \n",
       "1754  2010           05    Antioquia    Medellín       05001           101   \n",
       "\n",
       "                                     evento           edad     sexo  num_casos  \n",
       "1750  ENFERMEDADES INFECCIOSAS INTESTINALES  De 15-44 años  Hombres        2.0  \n",
       "1751  ENFERMEDADES INFECCIOSAS INTESTINALES  De 15-44 años  Mujeres        2.0  \n",
       "1752  ENFERMEDADES INFECCIOSAS INTESTINALES  De 45-64 años  Hombres        7.0  \n",
       "1753  ENFERMEDADES INFECCIOSAS INTESTINALES  De 45-64 años  Mujeres        5.0  \n",
       "1754  ENFERMEDADES INFECCIOSAS INTESTINALES    De 65 y más  Hombres       12.0  "
      ]
     },
     "execution_count": 5,
     "metadata": {},
     "output_type": "execute_result"
    }
   ],
   "source": [
    "df.head()"
   ]
  },
  {
   "cell_type": "code",
   "execution_count": 6,
   "metadata": {},
   "outputs": [
    {
     "name": "stdout",
     "output_type": "stream",
     "text": [
      "<class 'pandas.core.frame.DataFrame'>\n",
      "Int64Index: 464634 entries, 1750 to 1244983\n",
      "Data columns (total 10 columns):\n",
      " #   Column         Non-Null Count   Dtype  \n",
      "---  ------         --------------   -----  \n",
      " 0   anio           464634 non-null  int64  \n",
      " 1   codigo_depto   464634 non-null  object \n",
      " 2   nombre_depto   464634 non-null  object \n",
      " 3   nombre_muni    464634 non-null  object \n",
      " 4   codigo_muni    464634 non-null  object \n",
      " 5   codigo_evento  464634 non-null  object \n",
      " 6   evento         464634 non-null  object \n",
      " 7   edad           464634 non-null  object \n",
      " 8   sexo           464634 non-null  object \n",
      " 9   num_casos      464634 non-null  float64\n",
      "dtypes: float64(1), int64(1), object(8)\n",
      "memory usage: 55.1+ MB\n"
     ]
    }
   ],
   "source": [
    "df.info()"
   ]
  },
  {
   "cell_type": "code",
   "execution_count": 7,
   "metadata": {},
   "outputs": [
    {
     "data": {
      "text/plain": [
       "05             55605\n",
       "25             41758\n",
       "76             32919\n",
       "15             18155\n",
       "73             16210\n",
       "68             16083\n",
       "52             14958\n",
       "41             14752\n",
       "19             14466\n",
       "23             13828\n",
       "13             10914\n",
       "47             10427\n",
       "15             10377\n",
       "17             10332\n",
       "68             10261\n",
       "20              9418\n",
       "08              9346\n",
       "50              9018\n",
       "54              8189\n",
       "52              7300\n",
       "5               6983\n",
       "70              6729\n",
       "13              6512\n",
       "54              6363\n",
       "66              6349\n",
       "44              5932\n",
       "73              5725\n",
       "85              5625\n",
       "27              5483\n",
       "8               5228\n",
       "86              5067\n",
       "17              5001\n",
       "63              4757\n",
       "18              4754\n",
       "19              4635\n",
       "23              4146\n",
       "70              4104\n",
       "66              3908\n",
       "81              3833\n",
       "47              3067\n",
       "20              3039\n",
       "63              2807\n",
       "11              2579\n",
       "50              2503\n",
       "41              1749\n",
       "Extranjeros     1748\n",
       "11              1600\n",
       "18              1557\n",
       "95              1383\n",
       "44              1217\n",
       "91              1135\n",
       "99              1024\n",
       "88               963\n",
       "97               639\n",
       "94               619\n",
       "25               576\n",
       "27               567\n",
       "76               412\n",
       "Name: codigo_depto, dtype: int64"
      ]
     },
     "execution_count": 7,
     "metadata": {},
     "output_type": "execute_result"
    }
   ],
   "source": [
    "df['codigo_depto'].value_counts()\n"
   ]
  },
  {
   "cell_type": "code",
   "execution_count": 8,
   "metadata": {},
   "outputs": [],
   "source": [
    "df['codigo_depto'] = df['codigo_depto'].apply(lambda x : 100 if x == 'Extranjeros' else x)"
   ]
  },
  {
   "cell_type": "code",
   "execution_count": 9,
   "metadata": {},
   "outputs": [],
   "source": [
    "df['anio'] = df['anio'].astype('int64')\n",
    "df['codigo_depto'] = df['codigo_depto'].astype('string')\n",
    "df['nombre_depto'] = df['nombre_depto'].astype('string')\n",
    "df['nombre_muni'] = df['nombre_muni'].astype('string')\n",
    "df['codigo_muni'] = df['codigo_muni'].astype('int64')\n",
    "df['codigo_evento'] = df['codigo_evento'].astype('int64')\n",
    "df['evento'] = df['evento'].astype('string')\n",
    "df['sexo'] = df['sexo'].astype('string')\n",
    "df['edad'] = df['edad'].astype('string')\n",
    "df['num_casos'] = df['num_casos'].astype('int64')"
   ]
  },
  {
   "cell_type": "code",
   "execution_count": 10,
   "metadata": {},
   "outputs": [
    {
     "name": "stdout",
     "output_type": "stream",
     "text": [
      "<class 'pandas.core.frame.DataFrame'>\n",
      "Int64Index: 464634 entries, 1750 to 1244983\n",
      "Data columns (total 10 columns):\n",
      " #   Column         Non-Null Count   Dtype \n",
      "---  ------         --------------   ----- \n",
      " 0   anio           464634 non-null  int64 \n",
      " 1   codigo_depto   464634 non-null  string\n",
      " 2   nombre_depto   464634 non-null  string\n",
      " 3   nombre_muni    464634 non-null  string\n",
      " 4   codigo_muni    464634 non-null  int64 \n",
      " 5   codigo_evento  464634 non-null  int64 \n",
      " 6   evento         464634 non-null  string\n",
      " 7   edad           464634 non-null  string\n",
      " 8   sexo           464634 non-null  string\n",
      " 9   num_casos      464634 non-null  int64 \n",
      "dtypes: int64(4), string(6)\n",
      "memory usage: 55.1 MB\n"
     ]
    }
   ],
   "source": [
    "df.info()"
   ]
  },
  {
   "cell_type": "code",
   "execution_count": 11,
   "metadata": {},
   "outputs": [
    {
     "data": {
      "text/plain": [
       "anio             0\n",
       "codigo_depto     0\n",
       "nombre_depto     0\n",
       "nombre_muni      0\n",
       "codigo_muni      0\n",
       "codigo_evento    0\n",
       "evento           0\n",
       "edad             0\n",
       "sexo             0\n",
       "num_casos        0\n",
       "dtype: int64"
      ]
     },
     "execution_count": 11,
     "metadata": {},
     "output_type": "execute_result"
    }
   ],
   "source": [
    "df.isna().sum()"
   ]
  },
  {
   "cell_type": "code",
   "execution_count": 12,
   "metadata": {},
   "outputs": [
    {
     "data": {
      "text/plain": [
       "Hombres          255539\n",
       "Mujeres          209009\n",
       "Indeterminado        86\n",
       "Name: sexo, dtype: Int64"
      ]
     },
     "execution_count": 12,
     "metadata": {},
     "output_type": "execute_result"
    }
   ],
   "source": [
    "df['sexo'].value_counts()"
   ]
  },
  {
   "cell_type": "code",
   "execution_count": 13,
   "metadata": {},
   "outputs": [
    {
     "data": {
      "text/plain": [
       "sexo\n",
       "Hombres          882382\n",
       "Indeterminado        99\n",
       "Mujeres          705439\n",
       "Name: num_casos, dtype: int64"
      ]
     },
     "execution_count": 13,
     "metadata": {},
     "output_type": "execute_result"
    }
   ],
   "source": [
    "df.groupby(by='sexo')['num_casos'].sum()"
   ]
  },
  {
   "cell_type": "code",
   "execution_count": 14,
   "metadata": {},
   "outputs": [
    {
     "data": {
      "text/plain": [
       "evento\n",
       "PARO CARDIACO                                                148\n",
       "ENF. HEMOLITICA DEL FETO Y DEL RECIEN N. Y KERNICTERUS       168\n",
       "INFECC. CON MODO DE TRANSM. PREDOM./. SEXUAL                 267\n",
       "ACC. CAUSADOS POR DISPARO DE ARMAS DE FUEGO                  305\n",
       "OTRAS ENF. DE LAS VIAS RESPIRATORIAS SUPERIORES              331\n",
       "                                                           ...  \n",
       "INFECCIONES RESPIRATORIAS AGUDAS                           58854\n",
       "ENF. CRONICAS VIAS REPIRATORIAS INFERIORES                 95221\n",
       "AGRESIONES (HOMICIDIOS), INCLUSIVE SECUELAS               100943\n",
       "ENFERMEDADES CEREBROVASCULARES                            109875\n",
       "ENFERMEDADES ISQUEMICAS DEL CORAZON                       256804\n",
       "Name: num_casos, Length: 72, dtype: int64"
      ]
     },
     "execution_count": 14,
     "metadata": {},
     "output_type": "execute_result"
    }
   ],
   "source": [
    "df.groupby(by='evento')['num_casos'].sum().sort_values()"
   ]
  },
  {
   "cell_type": "code",
   "execution_count": 15,
   "metadata": {},
   "outputs": [
    {
     "data": {
      "text/plain": [
       "AGRESIONES (HOMICIDIOS), INCLUSIVE SECUELAS                        31\n",
       "SINTOMAS, SIGNOS Y AFECCIONES MAL DEFINIDAS                        19\n",
       "EVENTOS DE INTENCION NO DETERMINADA, INCL. SECUELAS                 7\n",
       "OTRAS AFECC. ORIGINADAS EN PERIODO PERINATAL                        5\n",
       "INTERVENCION LEGAL Y OPERAC. DE GUERRA, INCL. SECUELAS              4\n",
       "MALFORMACIONES CONGEN., DEFORMID.Y ANOMALIAS CROMOSOMICAS           4\n",
       "TRAST. RESPIRATORIOS ESPECIFICOS DEL PERIODO PERINATAL              3\n",
       "ACC. TRANSPORTE TERRESTRE, INCLUSIVE SECUELAS                       3\n",
       "FETO Y RECIEN N. AFECTADOS POR COMPL. OBST. Y TRAUM. NACIMIENTO     2\n",
       "OTROS ACCIDENTES, INCLUSIVE SECUELAS                                2\n",
       "LESIONES AUTOINFLIGIDAS INTENC.(SUICIDIOS), INCL. SECUELAS          1\n",
       "INFECC. CON MODO DE TRANSM. PREDOM./. SEXUAL                        1\n",
       "ENF. HEMOLITICA DEL FETO Y DEL RECIEN N. Y KERNICTERUS              1\n",
       "DEFICIENCIAS NUTRICIONALES Y ANEMIAS NUTRICIONALES                  1\n",
       "AHOGAMIENTO Y SUMERSION ACCIDENTALES                                1\n",
       "ENFERMEDADES ISQUEMICAS DEL CORAZON                                 1\n",
       "Name: evento, dtype: Int64"
      ]
     },
     "execution_count": 15,
     "metadata": {},
     "output_type": "execute_result"
    }
   ],
   "source": [
    "df.loc[df['sexo']=='Indeterminado']['evento'].value_counts()"
   ]
  },
  {
   "cell_type": "code",
   "execution_count": 16,
   "metadata": {},
   "outputs": [
    {
     "data": {
      "text/plain": [
       "edad\n",
       "Edad desconocida      1647\n",
       "De 100 y más          3868\n",
       "De 1-4 años          12292\n",
       "De 5-14 años         15894\n",
       "Menor 1 año          58835\n",
       "De 85-99 años       126621\n",
       "De 15-44 años       232707\n",
       "De 65-84 años       243131\n",
       "De 45-64 años       307836\n",
       "De 65 y más         585089\n",
       "Name: num_casos, dtype: int64"
      ]
     },
     "execution_count": 16,
     "metadata": {},
     "output_type": "execute_result"
    }
   ],
   "source": [
    "df.groupby(by='edad')['num_casos'].sum().sort_values()"
   ]
  },
  {
   "cell_type": "code",
   "execution_count": 17,
   "metadata": {},
   "outputs": [
    {
     "data": {
      "text/plain": [
       "nombre_depto\n",
       "Guainía                                        791\n",
       "Vaupés                                         796\n",
       "Vichada                                       1304\n",
       "Amazonas                                      1507\n",
       "Archipiélago de San Andrés y Providencia      1903\n",
       "Guaviare                                      2078\n",
       "Extranjeros                                   2655\n",
       "Arauca                                        7597\n",
       "Putumayo                                      7962\n",
       "Casanare                                      9397\n",
       "Chocó                                         9775\n",
       "Caquetá                                      12987\n",
       "La Guajira                                   13830\n",
       "Sucre                                        23961\n",
       "Quindío                                      26828\n",
       "Cesar                                        28749\n",
       "Meta                                         33229\n",
       "Magdalena                                    36571\n",
       "Huila                                        39584\n",
       "Cauca                                        40272\n",
       "Risaralda                                    41900\n",
       "Caldas                                       44267\n",
       "Córdoba                                      46514\n",
       "Boyacá                                       48935\n",
       "Nariño                                       49618\n",
       "Norte de Santander                           50620\n",
       "Bolívar                                      53125\n",
       "Tolima                                       61090\n",
       "Santander                                    76347\n",
       "Atlántico                                    77816\n",
       "Cundinamarca                                 89760\n",
       "Valle del Cauca                             189091\n",
       "Bogotá                                      228495\n",
       "Antioquia                                   228566\n",
       "Name: num_casos, dtype: int64"
      ]
     },
     "execution_count": 17,
     "metadata": {},
     "output_type": "execute_result"
    }
   ],
   "source": [
    "df.groupby(by='nombre_depto')['num_casos'].sum().sort_values()"
   ]
  },
  {
   "cell_type": "code",
   "execution_count": 18,
   "metadata": {},
   "outputs": [],
   "source": [
    "df.to_csv('data/pre_data_2010_2017.csv', index = False)"
   ]
  },
  {
   "cell_type": "markdown",
   "metadata": {},
   "source": [
    "a"
   ]
  },
  {
   "cell_type": "markdown",
   "metadata": {},
   "source": [
    "# Creación de dimensiones y tabla de hechos"
   ]
  },
  {
   "cell_type": "code",
   "execution_count": 19,
   "metadata": {},
   "outputs": [],
   "source": [
    "fact_table = df.copy()"
   ]
  },
  {
   "cell_type": "markdown",
   "metadata": {},
   "source": [
    "## Creación dimensión Fecha"
   ]
  },
  {
   "cell_type": "code",
   "execution_count": 20,
   "metadata": {},
   "outputs": [],
   "source": [
    "#Creamos el dataframe\n",
    "df_fecha = pd.DataFrame(fact_table[\"anio\"].unique())\n",
    "df_fecha = df_fecha.reset_index()\n",
    "df_fecha.columns = [\"fecha_key\", \"anio\"]\n",
    "df_fecha[\"fecha_key\"] = df_fecha[\"fecha_key\"]+1\n",
    "\n",
    "#Actualizamos la tabla principal\n",
    "fact_table = pd.merge(fact_table, df_fecha, on=\"anio\")\n",
    "fact_table = fact_table.drop(columns=['anio'])"
   ]
  },
  {
   "cell_type": "code",
   "execution_count": 21,
   "metadata": {},
   "outputs": [
    {
     "data": {
      "text/html": [
       "<div>\n",
       "<style scoped>\n",
       "    .dataframe tbody tr th:only-of-type {\n",
       "        vertical-align: middle;\n",
       "    }\n",
       "\n",
       "    .dataframe tbody tr th {\n",
       "        vertical-align: top;\n",
       "    }\n",
       "\n",
       "    .dataframe thead th {\n",
       "        text-align: right;\n",
       "    }\n",
       "</style>\n",
       "<table border=\"1\" class=\"dataframe\">\n",
       "  <thead>\n",
       "    <tr style=\"text-align: right;\">\n",
       "      <th></th>\n",
       "      <th>codigo_depto</th>\n",
       "      <th>nombre_depto</th>\n",
       "      <th>nombre_muni</th>\n",
       "      <th>codigo_muni</th>\n",
       "      <th>codigo_evento</th>\n",
       "      <th>evento</th>\n",
       "      <th>edad</th>\n",
       "      <th>sexo</th>\n",
       "      <th>num_casos</th>\n",
       "      <th>fecha_key</th>\n",
       "    </tr>\n",
       "  </thead>\n",
       "  <tbody>\n",
       "    <tr>\n",
       "      <th>0</th>\n",
       "      <td>05</td>\n",
       "      <td>Antioquia</td>\n",
       "      <td>Medellín</td>\n",
       "      <td>5001</td>\n",
       "      <td>101</td>\n",
       "      <td>ENFERMEDADES INFECCIOSAS INTESTINALES</td>\n",
       "      <td>De 15-44 años</td>\n",
       "      <td>Hombres</td>\n",
       "      <td>2</td>\n",
       "      <td>1</td>\n",
       "    </tr>\n",
       "    <tr>\n",
       "      <th>1</th>\n",
       "      <td>05</td>\n",
       "      <td>Antioquia</td>\n",
       "      <td>Medellín</td>\n",
       "      <td>5001</td>\n",
       "      <td>101</td>\n",
       "      <td>ENFERMEDADES INFECCIOSAS INTESTINALES</td>\n",
       "      <td>De 15-44 años</td>\n",
       "      <td>Mujeres</td>\n",
       "      <td>2</td>\n",
       "      <td>1</td>\n",
       "    </tr>\n",
       "    <tr>\n",
       "      <th>2</th>\n",
       "      <td>05</td>\n",
       "      <td>Antioquia</td>\n",
       "      <td>Medellín</td>\n",
       "      <td>5001</td>\n",
       "      <td>101</td>\n",
       "      <td>ENFERMEDADES INFECCIOSAS INTESTINALES</td>\n",
       "      <td>De 45-64 años</td>\n",
       "      <td>Hombres</td>\n",
       "      <td>7</td>\n",
       "      <td>1</td>\n",
       "    </tr>\n",
       "    <tr>\n",
       "      <th>3</th>\n",
       "      <td>05</td>\n",
       "      <td>Antioquia</td>\n",
       "      <td>Medellín</td>\n",
       "      <td>5001</td>\n",
       "      <td>101</td>\n",
       "      <td>ENFERMEDADES INFECCIOSAS INTESTINALES</td>\n",
       "      <td>De 45-64 años</td>\n",
       "      <td>Mujeres</td>\n",
       "      <td>5</td>\n",
       "      <td>1</td>\n",
       "    </tr>\n",
       "    <tr>\n",
       "      <th>4</th>\n",
       "      <td>05</td>\n",
       "      <td>Antioquia</td>\n",
       "      <td>Medellín</td>\n",
       "      <td>5001</td>\n",
       "      <td>101</td>\n",
       "      <td>ENFERMEDADES INFECCIOSAS INTESTINALES</td>\n",
       "      <td>De 65 y más</td>\n",
       "      <td>Hombres</td>\n",
       "      <td>12</td>\n",
       "      <td>1</td>\n",
       "    </tr>\n",
       "    <tr>\n",
       "      <th>...</th>\n",
       "      <td>...</td>\n",
       "      <td>...</td>\n",
       "      <td>...</td>\n",
       "      <td>...</td>\n",
       "      <td>...</td>\n",
       "      <td>...</td>\n",
       "      <td>...</td>\n",
       "      <td>...</td>\n",
       "      <td>...</td>\n",
       "      <td>...</td>\n",
       "    </tr>\n",
       "    <tr>\n",
       "      <th>464629</th>\n",
       "      <td>100</td>\n",
       "      <td>Extranjeros</td>\n",
       "      <td>Venezuela</td>\n",
       "      <td>75862</td>\n",
       "      <td>616</td>\n",
       "      <td>RESIDUO</td>\n",
       "      <td>De 65-84 años</td>\n",
       "      <td>Hombres</td>\n",
       "      <td>1</td>\n",
       "      <td>8</td>\n",
       "    </tr>\n",
       "    <tr>\n",
       "      <th>464630</th>\n",
       "      <td>100</td>\n",
       "      <td>Extranjeros</td>\n",
       "      <td>Venezuela</td>\n",
       "      <td>75862</td>\n",
       "      <td>700</td>\n",
       "      <td>SINTOMAS, SIGNOS Y AFECCIONES MAL DEFINIDAS</td>\n",
       "      <td>De 1-4 años</td>\n",
       "      <td>Hombres</td>\n",
       "      <td>1</td>\n",
       "      <td>8</td>\n",
       "    </tr>\n",
       "    <tr>\n",
       "      <th>464631</th>\n",
       "      <td>100</td>\n",
       "      <td>Extranjeros</td>\n",
       "      <td>Venezuela</td>\n",
       "      <td>75862</td>\n",
       "      <td>700</td>\n",
       "      <td>SINTOMAS, SIGNOS Y AFECCIONES MAL DEFINIDAS</td>\n",
       "      <td>De 15-44 años</td>\n",
       "      <td>Hombres</td>\n",
       "      <td>1</td>\n",
       "      <td>8</td>\n",
       "    </tr>\n",
       "    <tr>\n",
       "      <th>464632</th>\n",
       "      <td>100</td>\n",
       "      <td>Extranjeros</td>\n",
       "      <td>Venezuela</td>\n",
       "      <td>75862</td>\n",
       "      <td>700</td>\n",
       "      <td>SINTOMAS, SIGNOS Y AFECCIONES MAL DEFINIDAS</td>\n",
       "      <td>De 65-84 años</td>\n",
       "      <td>Hombres</td>\n",
       "      <td>1</td>\n",
       "      <td>8</td>\n",
       "    </tr>\n",
       "    <tr>\n",
       "      <th>464633</th>\n",
       "      <td>100</td>\n",
       "      <td>Extranjeros</td>\n",
       "      <td>Venezuela</td>\n",
       "      <td>75862</td>\n",
       "      <td>700</td>\n",
       "      <td>SINTOMAS, SIGNOS Y AFECCIONES MAL DEFINIDAS</td>\n",
       "      <td>De 85-99 años</td>\n",
       "      <td>Mujeres</td>\n",
       "      <td>1</td>\n",
       "      <td>8</td>\n",
       "    </tr>\n",
       "  </tbody>\n",
       "</table>\n",
       "<p>464634 rows × 10 columns</p>\n",
       "</div>"
      ],
      "text/plain": [
       "       codigo_depto nombre_depto nombre_muni  codigo_muni  codigo_evento  \\\n",
       "0                05    Antioquia    Medellín         5001            101   \n",
       "1                05    Antioquia    Medellín         5001            101   \n",
       "2                05    Antioquia    Medellín         5001            101   \n",
       "3                05    Antioquia    Medellín         5001            101   \n",
       "4                05    Antioquia    Medellín         5001            101   \n",
       "...             ...          ...         ...          ...            ...   \n",
       "464629          100  Extranjeros   Venezuela        75862            616   \n",
       "464630          100  Extranjeros   Venezuela        75862            700   \n",
       "464631          100  Extranjeros   Venezuela        75862            700   \n",
       "464632          100  Extranjeros   Venezuela        75862            700   \n",
       "464633          100  Extranjeros   Venezuela        75862            700   \n",
       "\n",
       "                                             evento           edad     sexo  \\\n",
       "0             ENFERMEDADES INFECCIOSAS INTESTINALES  De 15-44 años  Hombres   \n",
       "1             ENFERMEDADES INFECCIOSAS INTESTINALES  De 15-44 años  Mujeres   \n",
       "2             ENFERMEDADES INFECCIOSAS INTESTINALES  De 45-64 años  Hombres   \n",
       "3             ENFERMEDADES INFECCIOSAS INTESTINALES  De 45-64 años  Mujeres   \n",
       "4             ENFERMEDADES INFECCIOSAS INTESTINALES    De 65 y más  Hombres   \n",
       "...                                             ...            ...      ...   \n",
       "464629                                      RESIDUO  De 65-84 años  Hombres   \n",
       "464630  SINTOMAS, SIGNOS Y AFECCIONES MAL DEFINIDAS    De 1-4 años  Hombres   \n",
       "464631  SINTOMAS, SIGNOS Y AFECCIONES MAL DEFINIDAS  De 15-44 años  Hombres   \n",
       "464632  SINTOMAS, SIGNOS Y AFECCIONES MAL DEFINIDAS  De 65-84 años  Hombres   \n",
       "464633  SINTOMAS, SIGNOS Y AFECCIONES MAL DEFINIDAS  De 85-99 años  Mujeres   \n",
       "\n",
       "        num_casos  fecha_key  \n",
       "0               2          1  \n",
       "1               2          1  \n",
       "2               7          1  \n",
       "3               5          1  \n",
       "4              12          1  \n",
       "...           ...        ...  \n",
       "464629          1          8  \n",
       "464630          1          8  \n",
       "464631          1          8  \n",
       "464632          1          8  \n",
       "464633          1          8  \n",
       "\n",
       "[464634 rows x 10 columns]"
      ]
     },
     "execution_count": 21,
     "metadata": {},
     "output_type": "execute_result"
    }
   ],
   "source": [
    "fact_table"
   ]
  },
  {
   "cell_type": "code",
   "execution_count": 22,
   "metadata": {},
   "outputs": [],
   "source": [
    "#Guardamos la dimensión fecha\n",
    "df_fecha.to_csv('data/dim_fecha.csv',index = False)"
   ]
  },
  {
   "cell_type": "markdown",
   "metadata": {},
   "source": [
    "## Creación dimensión Perfil"
   ]
  },
  {
   "cell_type": "code",
   "execution_count": 23,
   "metadata": {},
   "outputs": [],
   "source": [
    "#obtengo edades y sexo unicas, luego creo a para hacer un join sin parametro\n",
    "list_edad = pd.DataFrame(fact_table[\"edad\"].unique())\n",
    "list_edad[\"a\"] = \"a\"\n",
    "list_sexo = pd.DataFrame(fact_table[\"sexo\"].unique())\n",
    "list_sexo[\"a\"] = \"a\""
   ]
  },
  {
   "cell_type": "code",
   "execution_count": 24,
   "metadata": {},
   "outputs": [
    {
     "data": {
      "text/html": [
       "<div>\n",
       "<style scoped>\n",
       "    .dataframe tbody tr th:only-of-type {\n",
       "        vertical-align: middle;\n",
       "    }\n",
       "\n",
       "    .dataframe tbody tr th {\n",
       "        vertical-align: top;\n",
       "    }\n",
       "\n",
       "    .dataframe thead th {\n",
       "        text-align: right;\n",
       "    }\n",
       "</style>\n",
       "<table border=\"1\" class=\"dataframe\">\n",
       "  <thead>\n",
       "    <tr style=\"text-align: right;\">\n",
       "      <th></th>\n",
       "      <th>0_x</th>\n",
       "      <th>a</th>\n",
       "      <th>0_y</th>\n",
       "    </tr>\n",
       "  </thead>\n",
       "  <tbody>\n",
       "    <tr>\n",
       "      <th>0</th>\n",
       "      <td>De 15-44 años</td>\n",
       "      <td>a</td>\n",
       "      <td>Hombres</td>\n",
       "    </tr>\n",
       "    <tr>\n",
       "      <th>1</th>\n",
       "      <td>De 15-44 años</td>\n",
       "      <td>a</td>\n",
       "      <td>Mujeres</td>\n",
       "    </tr>\n",
       "    <tr>\n",
       "      <th>2</th>\n",
       "      <td>De 15-44 años</td>\n",
       "      <td>a</td>\n",
       "      <td>Indeterminado</td>\n",
       "    </tr>\n",
       "    <tr>\n",
       "      <th>3</th>\n",
       "      <td>De 45-64 años</td>\n",
       "      <td>a</td>\n",
       "      <td>Hombres</td>\n",
       "    </tr>\n",
       "    <tr>\n",
       "      <th>4</th>\n",
       "      <td>De 45-64 años</td>\n",
       "      <td>a</td>\n",
       "      <td>Mujeres</td>\n",
       "    </tr>\n",
       "  </tbody>\n",
       "</table>\n",
       "</div>"
      ],
      "text/plain": [
       "             0_x  a            0_y\n",
       "0  De 15-44 años  a        Hombres\n",
       "1  De 15-44 años  a        Mujeres\n",
       "2  De 15-44 años  a  Indeterminado\n",
       "3  De 45-64 años  a        Hombres\n",
       "4  De 45-64 años  a        Mujeres"
      ]
     },
     "execution_count": 24,
     "metadata": {},
     "output_type": "execute_result"
    }
   ],
   "source": [
    "r1 = pd.merge(list_edad, list_sexo, on=\"a\")\n",
    "r1.head(5)"
   ]
  },
  {
   "cell_type": "code",
   "execution_count": 25,
   "metadata": {},
   "outputs": [],
   "source": [
    "#Creamos el dataframe\n",
    "df_perfil = r1.copy()\n",
    "df_perfil = df_perfil.drop(columns=['a'])\n",
    "df_perfil = df_perfil.reset_index()\n",
    "df_perfil.columns = [\"perfil_key\",\"edad\", \"sexo\"]\n",
    "df_perfil[\"perfil_key\"] = df_perfil[\"perfil_key\"]+1"
   ]
  },
  {
   "cell_type": "code",
   "execution_count": 26,
   "metadata": {
    "scrolled": false
   },
   "outputs": [
    {
     "data": {
      "text/html": [
       "<div>\n",
       "<style scoped>\n",
       "    .dataframe tbody tr th:only-of-type {\n",
       "        vertical-align: middle;\n",
       "    }\n",
       "\n",
       "    .dataframe tbody tr th {\n",
       "        vertical-align: top;\n",
       "    }\n",
       "\n",
       "    .dataframe thead th {\n",
       "        text-align: right;\n",
       "    }\n",
       "</style>\n",
       "<table border=\"1\" class=\"dataframe\">\n",
       "  <thead>\n",
       "    <tr style=\"text-align: right;\">\n",
       "      <th></th>\n",
       "      <th>perfil_key</th>\n",
       "      <th>edad</th>\n",
       "      <th>sexo</th>\n",
       "    </tr>\n",
       "  </thead>\n",
       "  <tbody>\n",
       "    <tr>\n",
       "      <th>0</th>\n",
       "      <td>1</td>\n",
       "      <td>De 15-44 años</td>\n",
       "      <td>Hombres</td>\n",
       "    </tr>\n",
       "    <tr>\n",
       "      <th>1</th>\n",
       "      <td>2</td>\n",
       "      <td>De 15-44 años</td>\n",
       "      <td>Mujeres</td>\n",
       "    </tr>\n",
       "    <tr>\n",
       "      <th>2</th>\n",
       "      <td>3</td>\n",
       "      <td>De 15-44 años</td>\n",
       "      <td>Indeterminado</td>\n",
       "    </tr>\n",
       "    <tr>\n",
       "      <th>3</th>\n",
       "      <td>4</td>\n",
       "      <td>De 45-64 años</td>\n",
       "      <td>Hombres</td>\n",
       "    </tr>\n",
       "    <tr>\n",
       "      <th>4</th>\n",
       "      <td>5</td>\n",
       "      <td>De 45-64 años</td>\n",
       "      <td>Mujeres</td>\n",
       "    </tr>\n",
       "  </tbody>\n",
       "</table>\n",
       "</div>"
      ],
      "text/plain": [
       "   perfil_key           edad           sexo\n",
       "0           1  De 15-44 años        Hombres\n",
       "1           2  De 15-44 años        Mujeres\n",
       "2           3  De 15-44 años  Indeterminado\n",
       "3           4  De 45-64 años        Hombres\n",
       "4           5  De 45-64 años        Mujeres"
      ]
     },
     "execution_count": 26,
     "metadata": {},
     "output_type": "execute_result"
    }
   ],
   "source": [
    "df_perfil.head(5)"
   ]
  },
  {
   "cell_type": "code",
   "execution_count": 27,
   "metadata": {},
   "outputs": [
    {
     "data": {
      "text/html": [
       "<div>\n",
       "<style scoped>\n",
       "    .dataframe tbody tr th:only-of-type {\n",
       "        vertical-align: middle;\n",
       "    }\n",
       "\n",
       "    .dataframe tbody tr th {\n",
       "        vertical-align: top;\n",
       "    }\n",
       "\n",
       "    .dataframe thead th {\n",
       "        text-align: right;\n",
       "    }\n",
       "</style>\n",
       "<table border=\"1\" class=\"dataframe\">\n",
       "  <thead>\n",
       "    <tr style=\"text-align: right;\">\n",
       "      <th></th>\n",
       "      <th>codigo_depto</th>\n",
       "      <th>nombre_depto</th>\n",
       "      <th>nombre_muni</th>\n",
       "      <th>codigo_muni</th>\n",
       "      <th>codigo_evento</th>\n",
       "      <th>evento</th>\n",
       "      <th>num_casos</th>\n",
       "      <th>fecha_key</th>\n",
       "      <th>perfil_key</th>\n",
       "    </tr>\n",
       "  </thead>\n",
       "  <tbody>\n",
       "    <tr>\n",
       "      <th>0</th>\n",
       "      <td>05</td>\n",
       "      <td>Antioquia</td>\n",
       "      <td>Medellín</td>\n",
       "      <td>5001</td>\n",
       "      <td>101</td>\n",
       "      <td>ENFERMEDADES INFECCIOSAS INTESTINALES</td>\n",
       "      <td>2</td>\n",
       "      <td>1</td>\n",
       "      <td>1</td>\n",
       "    </tr>\n",
       "    <tr>\n",
       "      <th>1</th>\n",
       "      <td>05</td>\n",
       "      <td>Antioquia</td>\n",
       "      <td>Medellín</td>\n",
       "      <td>5001</td>\n",
       "      <td>102</td>\n",
       "      <td>TUBERCULOSIS, INCLUSIVE SECUELAS</td>\n",
       "      <td>11</td>\n",
       "      <td>1</td>\n",
       "      <td>1</td>\n",
       "    </tr>\n",
       "    <tr>\n",
       "      <th>2</th>\n",
       "      <td>05</td>\n",
       "      <td>Antioquia</td>\n",
       "      <td>Medellín</td>\n",
       "      <td>5001</td>\n",
       "      <td>105</td>\n",
       "      <td>MENINGITIS</td>\n",
       "      <td>2</td>\n",
       "      <td>1</td>\n",
       "      <td>1</td>\n",
       "    </tr>\n",
       "    <tr>\n",
       "      <th>3</th>\n",
       "      <td>05</td>\n",
       "      <td>Antioquia</td>\n",
       "      <td>Medellín</td>\n",
       "      <td>5001</td>\n",
       "      <td>106</td>\n",
       "      <td>SEPTICEMIA</td>\n",
       "      <td>6</td>\n",
       "      <td>1</td>\n",
       "      <td>1</td>\n",
       "    </tr>\n",
       "    <tr>\n",
       "      <th>4</th>\n",
       "      <td>05</td>\n",
       "      <td>Antioquia</td>\n",
       "      <td>Medellín</td>\n",
       "      <td>5001</td>\n",
       "      <td>108</td>\n",
       "      <td>ENFERMEDAD POR EL VIH/SIDA</td>\n",
       "      <td>58</td>\n",
       "      <td>1</td>\n",
       "      <td>1</td>\n",
       "    </tr>\n",
       "    <tr>\n",
       "      <th>...</th>\n",
       "      <td>...</td>\n",
       "      <td>...</td>\n",
       "      <td>...</td>\n",
       "      <td>...</td>\n",
       "      <td>...</td>\n",
       "      <td>...</td>\n",
       "      <td>...</td>\n",
       "      <td>...</td>\n",
       "      <td>...</td>\n",
       "    </tr>\n",
       "    <tr>\n",
       "      <th>464629</th>\n",
       "      <td>76</td>\n",
       "      <td>Valle del Cauca</td>\n",
       "      <td>Yumbo</td>\n",
       "      <td>76892</td>\n",
       "      <td>605</td>\n",
       "      <td>ENF. CRONICAS VIAS REPIRATORIAS INFERIORES</td>\n",
       "      <td>1</td>\n",
       "      <td>8</td>\n",
       "      <td>29</td>\n",
       "    </tr>\n",
       "    <tr>\n",
       "      <th>464630</th>\n",
       "      <td>76</td>\n",
       "      <td>Valle del Cauca</td>\n",
       "      <td>Zarzal</td>\n",
       "      <td>76895</td>\n",
       "      <td>106</td>\n",
       "      <td>SEPTICEMIA</td>\n",
       "      <td>1</td>\n",
       "      <td>8</td>\n",
       "      <td>29</td>\n",
       "    </tr>\n",
       "    <tr>\n",
       "      <th>464631</th>\n",
       "      <td>76</td>\n",
       "      <td>Valle del Cauca</td>\n",
       "      <td>Zarzal</td>\n",
       "      <td>76895</td>\n",
       "      <td>616</td>\n",
       "      <td>RESIDUO</td>\n",
       "      <td>1</td>\n",
       "      <td>8</td>\n",
       "      <td>29</td>\n",
       "    </tr>\n",
       "    <tr>\n",
       "      <th>464632</th>\n",
       "      <td>85</td>\n",
       "      <td>Casanare</td>\n",
       "      <td>Yopal</td>\n",
       "      <td>85001</td>\n",
       "      <td>612</td>\n",
       "      <td>ENFERMEDADES SISTEMA URINARIO</td>\n",
       "      <td>1</td>\n",
       "      <td>8</td>\n",
       "      <td>29</td>\n",
       "    </tr>\n",
       "    <tr>\n",
       "      <th>464633</th>\n",
       "      <td>88</td>\n",
       "      <td>Archipiélago de San Andrés y Providencia</td>\n",
       "      <td>San Andrés</td>\n",
       "      <td>88001</td>\n",
       "      <td>303</td>\n",
       "      <td>ENFERMEDADES ISQUEMICAS DEL CORAZON</td>\n",
       "      <td>1</td>\n",
       "      <td>8</td>\n",
       "      <td>29</td>\n",
       "    </tr>\n",
       "  </tbody>\n",
       "</table>\n",
       "<p>464634 rows × 9 columns</p>\n",
       "</div>"
      ],
      "text/plain": [
       "       codigo_depto                              nombre_depto nombre_muni  \\\n",
       "0                05                                 Antioquia    Medellín   \n",
       "1                05                                 Antioquia    Medellín   \n",
       "2                05                                 Antioquia    Medellín   \n",
       "3                05                                 Antioquia    Medellín   \n",
       "4                05                                 Antioquia    Medellín   \n",
       "...             ...                                       ...         ...   \n",
       "464629           76                           Valle del Cauca       Yumbo   \n",
       "464630           76                           Valle del Cauca      Zarzal   \n",
       "464631           76                           Valle del Cauca      Zarzal   \n",
       "464632           85                                  Casanare       Yopal   \n",
       "464633           88  Archipiélago de San Andrés y Providencia  San Andrés   \n",
       "\n",
       "        codigo_muni  codigo_evento  \\\n",
       "0              5001            101   \n",
       "1              5001            102   \n",
       "2              5001            105   \n",
       "3              5001            106   \n",
       "4              5001            108   \n",
       "...             ...            ...   \n",
       "464629        76892            605   \n",
       "464630        76895            106   \n",
       "464631        76895            616   \n",
       "464632        85001            612   \n",
       "464633        88001            303   \n",
       "\n",
       "                                            evento  num_casos  fecha_key  \\\n",
       "0            ENFERMEDADES INFECCIOSAS INTESTINALES          2          1   \n",
       "1                 TUBERCULOSIS, INCLUSIVE SECUELAS         11          1   \n",
       "2                                       MENINGITIS          2          1   \n",
       "3                                       SEPTICEMIA          6          1   \n",
       "4                       ENFERMEDAD POR EL VIH/SIDA         58          1   \n",
       "...                                            ...        ...        ...   \n",
       "464629  ENF. CRONICAS VIAS REPIRATORIAS INFERIORES          1          8   \n",
       "464630                                  SEPTICEMIA          1          8   \n",
       "464631                                     RESIDUO          1          8   \n",
       "464632               ENFERMEDADES SISTEMA URINARIO          1          8   \n",
       "464633         ENFERMEDADES ISQUEMICAS DEL CORAZON          1          8   \n",
       "\n",
       "        perfil_key  \n",
       "0                1  \n",
       "1                1  \n",
       "2                1  \n",
       "3                1  \n",
       "4                1  \n",
       "...            ...  \n",
       "464629          29  \n",
       "464630          29  \n",
       "464631          29  \n",
       "464632          29  \n",
       "464633          29  \n",
       "\n",
       "[464634 rows x 9 columns]"
      ]
     },
     "execution_count": 27,
     "metadata": {},
     "output_type": "execute_result"
    }
   ],
   "source": [
    "#Actualizamos la tabla principal\n",
    "fact_table = pd.merge(fact_table, df_perfil,  on=['edad','sexo'])\n",
    "fact_table = fact_table.drop(columns=['edad','sexo'])\n",
    "fact_table"
   ]
  },
  {
   "cell_type": "code",
   "execution_count": 28,
   "metadata": {},
   "outputs": [],
   "source": [
    "#Guardamos la dimensión perfil\n",
    "df_perfil.to_csv('data/dim_perfil.csv',index = False)"
   ]
  },
  {
   "cell_type": "markdown",
   "metadata": {},
   "source": [
    "## Creación dimensión Lugar"
   ]
  },
  {
   "cell_type": "code",
   "execution_count": 29,
   "metadata": {},
   "outputs": [],
   "source": [
    "df_temp = fact_table.copy()"
   ]
  },
  {
   "cell_type": "code",
   "execution_count": 30,
   "metadata": {},
   "outputs": [],
   "source": [
    "df_lugar = df_temp[[\"codigo_depto\",\"codigo_muni\",\"nombre_depto\",\"nombre_muni\"]]"
   ]
  },
  {
   "cell_type": "code",
   "execution_count": 31,
   "metadata": {},
   "outputs": [],
   "source": [
    "df_lugar = df_lugar.drop_duplicates()"
   ]
  },
  {
   "cell_type": "code",
   "execution_count": 32,
   "metadata": {},
   "outputs": [],
   "source": [
    "#Creamos el dataframe\n",
    "df_lugar = df_lugar.reset_index()\n",
    "df_lugar.columns = [\"lugar_key\",\"codigo_depto\",\"codigo_muni\",\"nombre_depto\", \"nombre_muni\"]\n",
    "df_lugar[\"codigo_depto\"] = df_lugar[\"codigo_depto\"].astype('int32')\n",
    "df_lugar[\"lugar_key\"] = df_lugar[\"lugar_key\"]+1"
   ]
  },
  {
   "cell_type": "code",
   "execution_count": 33,
   "metadata": {},
   "outputs": [],
   "source": [
    "#Para municipios a añadir las latitudes y las longitudes.\n",
    "muni = pd.read_csv('data/colombia_muni.csv', header=None, encoding='utf8')\n",
    "muni.columns = [\"codigo_muni\",\"nombre_muni\",\"codigo_depto\",\"nombre_depto\", \"lati_muni\", \"long_muni\"]\n",
    "muni = muni.drop(columns=[\"nombre_muni\",'codigo_depto','nombre_depto'])\n",
    "\n",
    "#Para departamentos a añadir las latitudes y las longitudes\n",
    "depto = pd.read_csv('data/colombia_depto.csv', header=None, encoding='utf8') \n",
    "depto.columns = [\"codigo_depto\",\"nombre_depto\",\"lati_depto\", \"long_depto\"]\n",
    "depto = depto.drop(columns=[\"nombre_depto\"])"
   ]
  },
  {
   "cell_type": "code",
   "execution_count": 34,
   "metadata": {},
   "outputs": [],
   "source": [
    "df_lugar = pd.merge(df_lugar, muni, on='codigo_muni')\n",
    "df_lugar = pd.merge(df_lugar, depto, on='codigo_depto')"
   ]
  },
  {
   "cell_type": "code",
   "execution_count": 35,
   "metadata": {},
   "outputs": [
    {
     "ename": "AttributeError",
     "evalue": "'float' object has no attribute 'replace'",
     "output_type": "error",
     "traceback": [
      "\u001b[1;31m---------------------------------------------------------------------------\u001b[0m",
      "\u001b[1;31mAttributeError\u001b[0m                            Traceback (most recent call last)",
      "\u001b[1;32m~\\AppData\\Local\\Temp/ipykernel_8828/3893772769.py\u001b[0m in \u001b[0;36m<module>\u001b[1;34m\u001b[0m\n\u001b[0;32m      1\u001b[0m \u001b[1;31m#Toca arreglar la latitud\u001b[0m\u001b[1;33m\u001b[0m\u001b[1;33m\u001b[0m\u001b[1;33m\u001b[0m\u001b[0m\n\u001b[1;32m----> 2\u001b[1;33m \u001b[0mdf_lugar\u001b[0m\u001b[1;33m[\u001b[0m\u001b[1;34m\"lati_muni\"\u001b[0m\u001b[1;33m]\u001b[0m \u001b[1;33m=\u001b[0m \u001b[0mdf_lugar\u001b[0m\u001b[1;33m[\u001b[0m\u001b[1;34m\"lati_muni\"\u001b[0m\u001b[1;33m]\u001b[0m\u001b[1;33m.\u001b[0m\u001b[0mapply\u001b[0m\u001b[1;33m(\u001b[0m\u001b[1;32mlambda\u001b[0m \u001b[0mx\u001b[0m \u001b[1;33m:\u001b[0m \u001b[0mx\u001b[0m\u001b[1;33m.\u001b[0m\u001b[0mreplace\u001b[0m\u001b[1;33m(\u001b[0m\u001b[1;34m\",\"\u001b[0m\u001b[1;33m,\u001b[0m\u001b[1;34m\".\"\u001b[0m\u001b[1;33m)\u001b[0m\u001b[1;33m)\u001b[0m\u001b[1;33m\u001b[0m\u001b[1;33m\u001b[0m\u001b[0m\n\u001b[0m\u001b[0;32m      3\u001b[0m \u001b[0mdf_lugar\u001b[0m\u001b[1;33m[\u001b[0m\u001b[1;34m\"lati_muni\"\u001b[0m\u001b[1;33m]\u001b[0m \u001b[1;33m=\u001b[0m \u001b[0mdf_lugar\u001b[0m\u001b[1;33m[\u001b[0m\u001b[1;34m\"lati_muni\"\u001b[0m\u001b[1;33m]\u001b[0m\u001b[1;33m.\u001b[0m\u001b[0mastype\u001b[0m\u001b[1;33m(\u001b[0m\u001b[1;34m'float64'\u001b[0m\u001b[1;33m)\u001b[0m\u001b[1;33m\u001b[0m\u001b[1;33m\u001b[0m\u001b[0m\n\u001b[0;32m      4\u001b[0m \u001b[1;33m\u001b[0m\u001b[0m\n\u001b[0;32m      5\u001b[0m \u001b[1;31m#luego lo \"desarreglamos\"\u001b[0m\u001b[1;33m\u001b[0m\u001b[1;33m\u001b[0m\u001b[1;33m\u001b[0m\u001b[0m\n",
      "\u001b[1;32m~\\anaconda3\\lib\\site-packages\\pandas\\core\\series.py\u001b[0m in \u001b[0;36mapply\u001b[1;34m(self, func, convert_dtype, args, **kwds)\u001b[0m\n\u001b[0;32m   4136\u001b[0m             \u001b[1;32melse\u001b[0m\u001b[1;33m:\u001b[0m\u001b[1;33m\u001b[0m\u001b[1;33m\u001b[0m\u001b[0m\n\u001b[0;32m   4137\u001b[0m                 \u001b[0mvalues\u001b[0m \u001b[1;33m=\u001b[0m \u001b[0mself\u001b[0m\u001b[1;33m.\u001b[0m\u001b[0mastype\u001b[0m\u001b[1;33m(\u001b[0m\u001b[0mobject\u001b[0m\u001b[1;33m)\u001b[0m\u001b[1;33m.\u001b[0m\u001b[0m_values\u001b[0m\u001b[1;33m\u001b[0m\u001b[1;33m\u001b[0m\u001b[0m\n\u001b[1;32m-> 4138\u001b[1;33m                 \u001b[0mmapped\u001b[0m \u001b[1;33m=\u001b[0m \u001b[0mlib\u001b[0m\u001b[1;33m.\u001b[0m\u001b[0mmap_infer\u001b[0m\u001b[1;33m(\u001b[0m\u001b[0mvalues\u001b[0m\u001b[1;33m,\u001b[0m \u001b[0mf\u001b[0m\u001b[1;33m,\u001b[0m \u001b[0mconvert\u001b[0m\u001b[1;33m=\u001b[0m\u001b[0mconvert_dtype\u001b[0m\u001b[1;33m)\u001b[0m\u001b[1;33m\u001b[0m\u001b[1;33m\u001b[0m\u001b[0m\n\u001b[0m\u001b[0;32m   4139\u001b[0m \u001b[1;33m\u001b[0m\u001b[0m\n\u001b[0;32m   4140\u001b[0m         \u001b[1;32mif\u001b[0m \u001b[0mlen\u001b[0m\u001b[1;33m(\u001b[0m\u001b[0mmapped\u001b[0m\u001b[1;33m)\u001b[0m \u001b[1;32mand\u001b[0m \u001b[0misinstance\u001b[0m\u001b[1;33m(\u001b[0m\u001b[0mmapped\u001b[0m\u001b[1;33m[\u001b[0m\u001b[1;36m0\u001b[0m\u001b[1;33m]\u001b[0m\u001b[1;33m,\u001b[0m \u001b[0mSeries\u001b[0m\u001b[1;33m)\u001b[0m\u001b[1;33m:\u001b[0m\u001b[1;33m\u001b[0m\u001b[1;33m\u001b[0m\u001b[0m\n",
      "\u001b[1;32mpandas\\_libs\\lib.pyx\u001b[0m in \u001b[0;36mpandas._libs.lib.map_infer\u001b[1;34m()\u001b[0m\n",
      "\u001b[1;32m~\\AppData\\Local\\Temp/ipykernel_8828/3893772769.py\u001b[0m in \u001b[0;36m<lambda>\u001b[1;34m(x)\u001b[0m\n\u001b[0;32m      1\u001b[0m \u001b[1;31m#Toca arreglar la latitud\u001b[0m\u001b[1;33m\u001b[0m\u001b[1;33m\u001b[0m\u001b[1;33m\u001b[0m\u001b[0m\n\u001b[1;32m----> 2\u001b[1;33m \u001b[0mdf_lugar\u001b[0m\u001b[1;33m[\u001b[0m\u001b[1;34m\"lati_muni\"\u001b[0m\u001b[1;33m]\u001b[0m \u001b[1;33m=\u001b[0m \u001b[0mdf_lugar\u001b[0m\u001b[1;33m[\u001b[0m\u001b[1;34m\"lati_muni\"\u001b[0m\u001b[1;33m]\u001b[0m\u001b[1;33m.\u001b[0m\u001b[0mapply\u001b[0m\u001b[1;33m(\u001b[0m\u001b[1;32mlambda\u001b[0m \u001b[0mx\u001b[0m \u001b[1;33m:\u001b[0m \u001b[0mx\u001b[0m\u001b[1;33m.\u001b[0m\u001b[0mreplace\u001b[0m\u001b[1;33m(\u001b[0m\u001b[1;34m\",\"\u001b[0m\u001b[1;33m,\u001b[0m\u001b[1;34m\".\"\u001b[0m\u001b[1;33m)\u001b[0m\u001b[1;33m)\u001b[0m\u001b[1;33m\u001b[0m\u001b[1;33m\u001b[0m\u001b[0m\n\u001b[0m\u001b[0;32m      3\u001b[0m \u001b[0mdf_lugar\u001b[0m\u001b[1;33m[\u001b[0m\u001b[1;34m\"lati_muni\"\u001b[0m\u001b[1;33m]\u001b[0m \u001b[1;33m=\u001b[0m \u001b[0mdf_lugar\u001b[0m\u001b[1;33m[\u001b[0m\u001b[1;34m\"lati_muni\"\u001b[0m\u001b[1;33m]\u001b[0m\u001b[1;33m.\u001b[0m\u001b[0mastype\u001b[0m\u001b[1;33m(\u001b[0m\u001b[1;34m'float64'\u001b[0m\u001b[1;33m)\u001b[0m\u001b[1;33m\u001b[0m\u001b[1;33m\u001b[0m\u001b[0m\n\u001b[0;32m      4\u001b[0m \u001b[1;33m\u001b[0m\u001b[0m\n\u001b[0;32m      5\u001b[0m \u001b[1;31m#luego lo \"desarreglamos\"\u001b[0m\u001b[1;33m\u001b[0m\u001b[1;33m\u001b[0m\u001b[1;33m\u001b[0m\u001b[0m\n",
      "\u001b[1;31mAttributeError\u001b[0m: 'float' object has no attribute 'replace'"
     ]
    }
   ],
   "source": [
    "#luego lo \"desarreglamos\"\n",
    "df_lugar[\"lati_muni\"] = df_lugar[\"lati_muni\"].astype('object')\n",
    "df_lugar[\"long_muni\"] = df_lugar[\"long_muni\"].astype('object')\n",
    "df_lugar[\"lati_depto\"] = df_lugar[\"lati_depto\"].astype('object')\n",
    "df_lugar[\"long_depto\"] = df_lugar[\"long_depto\"].astype('object')"
   ]
  },
  {
   "cell_type": "code",
   "execution_count": null,
   "metadata": {},
   "outputs": [],
   "source": []
  },
  {
   "cell_type": "code",
   "execution_count": null,
   "metadata": {
    "scrolled": true
   },
   "outputs": [],
   "source": [
    "df_lugar"
   ]
  },
  {
   "cell_type": "code",
   "execution_count": null,
   "metadata": {},
   "outputs": [],
   "source": []
  },
  {
   "cell_type": "code",
   "execution_count": null,
   "metadata": {
    "scrolled": false
   },
   "outputs": [],
   "source": [
    "#Actualizamos la tabla principal\n",
    "fact_table = pd.merge(fact_table, df_lugar,  on=['nombre_depto','nombre_muni'], suffixes = (\"_l\",\"_r\"))\n",
    "fact_table = fact_table.drop(columns=['codigo_depto_l', 'codigo_muni_l', 'codigo_depto_r', 'codigo_muni_r', 'nombre_depto', \"nombre_muni\"])\n",
    "fact_table"
   ]
  },
  {
   "cell_type": "code",
   "execution_count": null,
   "metadata": {},
   "outputs": [],
   "source": [
    "#Guardamos la dimensión lugar\n",
    "df_lugar.to_csv('data/dim_lugar.csv',index = False)"
   ]
  },
  {
   "cell_type": "markdown",
   "metadata": {},
   "source": [
    "## Creación dimensión Evento"
   ]
  },
  {
   "cell_type": "code",
   "execution_count": null,
   "metadata": {},
   "outputs": [],
   "source": [
    "#Creamos el dataframe\n",
    "df_evento = pd.DataFrame(fact_table[\"evento\"].unique())\n",
    "df_evento = df_evento.reset_index()\n",
    "df_evento.columns = [\"evento_key\", \"evento\"]\n",
    "df_evento[\"evento_key\"] = df_evento[\"evento_key\"]+1\n",
    "\n",
    "#Actualizamos la tabla principal\n",
    "fact_table = pd.merge(fact_table, df_evento, on=\"evento\")\n",
    "fact_table = fact_table.drop(columns=['evento'])"
   ]
  },
  {
   "cell_type": "code",
   "execution_count": null,
   "metadata": {},
   "outputs": [],
   "source": [
    "fact_table"
   ]
  },
  {
   "cell_type": "code",
   "execution_count": null,
   "metadata": {},
   "outputs": [],
   "source": [
    "#Guardamos la dimensión fecha\n",
    "df_evento.to_csv('data/dim_evento.csv',index = False)"
   ]
  },
  {
   "cell_type": "code",
   "execution_count": null,
   "metadata": {},
   "outputs": [],
   "source": [
    "#Guardamos la tabla de hechos\n",
    "fact_table.to_csv('data/fact_table.csv',index = False)"
   ]
  },
  {
   "cell_type": "code",
   "execution_count": null,
   "metadata": {},
   "outputs": [],
   "source": []
  },
  {
   "cell_type": "code",
   "execution_count": null,
   "metadata": {},
   "outputs": [],
   "source": []
  }
 ],
 "metadata": {
  "interpreter": {
   "hash": "b3ba2566441a7c06988d0923437866b63cedc61552a5af99d1f4fb67d367b25f"
  },
  "kernelspec": {
   "display_name": "Python 3 (ipykernel)",
   "language": "python",
   "name": "python3"
  },
  "language_info": {
   "codemirror_mode": {
    "name": "ipython",
    "version": 3
   },
   "file_extension": ".py",
   "mimetype": "text/x-python",
   "name": "python",
   "nbconvert_exporter": "python",
   "pygments_lexer": "ipython3",
   "version": "3.8.8"
  },
  "toc": {
   "base_numbering": 1,
   "nav_menu": {},
   "number_sections": true,
   "sideBar": true,
   "skip_h1_title": false,
   "title_cell": "Table of Contents",
   "title_sidebar": "Contents",
   "toc_cell": false,
   "toc_position": {
    "height": "calc(100% - 180px)",
    "left": "10px",
    "top": "150px",
    "width": "165px"
   },
   "toc_section_display": true,
   "toc_window_display": true
  }
 },
 "nbformat": 4,
 "nbformat_minor": 2
}
