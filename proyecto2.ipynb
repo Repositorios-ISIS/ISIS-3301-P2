{
 "cells": [
  {
   "cell_type": "code",
   "execution_count": 2,
   "metadata": {},
   "outputs": [],
   "source": [
    "import pandas as pd\r\n",
    "import numpy as np"
   ]
  },
  {
   "cell_type": "code",
   "execution_count": 3,
   "metadata": {},
   "outputs": [
    {
     "name": "stderr",
     "output_type": "stream",
     "text": [
      "C:\\ProgramData\\Anaconda3\\lib\\site-packages\\IPython\\core\\interactiveshell.py:3165: DtypeWarning: Columns (1) have mixed types.Specify dtype option on import or set low_memory=False.\n",
      "  has_raised = await self.run_ast_nodes(code_ast.body, cell_name,\n"
     ]
    }
   ],
   "source": [
    "df = pd.read_csv('data_2010_2017.csv', sep=',', index_col=False)"
   ]
  },
  {
   "cell_type": "code",
   "execution_count": 4,
   "metadata": {},
   "outputs": [
    {
     "data": {
      "text/html": [
       "<div>\n",
       "<style scoped>\n",
       "    .dataframe tbody tr th:only-of-type {\n",
       "        vertical-align: middle;\n",
       "    }\n",
       "\n",
       "    .dataframe tbody tr th {\n",
       "        vertical-align: top;\n",
       "    }\n",
       "\n",
       "    .dataframe thead th {\n",
       "        text-align: right;\n",
       "    }\n",
       "</style>\n",
       "<table border=\"1\" class=\"dataframe\">\n",
       "  <thead>\n",
       "    <tr style=\"text-align: right;\">\n",
       "      <th></th>\n",
       "      <th>anio</th>\n",
       "      <th>codigo_depto</th>\n",
       "      <th>nombre_depto</th>\n",
       "      <th>nombre_muni</th>\n",
       "      <th>codigo_muni</th>\n",
       "      <th>codigo_evento</th>\n",
       "      <th>evento</th>\n",
       "      <th>edad</th>\n",
       "      <th>sexo</th>\n",
       "      <th>num_casos</th>\n",
       "    </tr>\n",
       "  </thead>\n",
       "  <tbody>\n",
       "    <tr>\n",
       "      <th>0</th>\n",
       "      <td>2010</td>\n",
       "      <td>TOTAL</td>\n",
       "      <td>TOTAL</td>\n",
       "      <td>TOTAL</td>\n",
       "      <td>TOTAL</td>\n",
       "      <td>TOTAL</td>\n",
       "      <td>TOTAL</td>\n",
       "      <td>TOTAL</td>\n",
       "      <td>TOTAL</td>\n",
       "      <td>200524.0</td>\n",
       "    </tr>\n",
       "    <tr>\n",
       "      <th>1</th>\n",
       "      <td>2010</td>\n",
       "      <td>TOTAL</td>\n",
       "      <td>TOTAL</td>\n",
       "      <td>TOTAL</td>\n",
       "      <td>TOTAL</td>\n",
       "      <td>TOTAL</td>\n",
       "      <td>TOTAL</td>\n",
       "      <td>TOTAL</td>\n",
       "      <td>Hombres</td>\n",
       "      <td>114264.0</td>\n",
       "    </tr>\n",
       "    <tr>\n",
       "      <th>2</th>\n",
       "      <td>2010</td>\n",
       "      <td>TOTAL</td>\n",
       "      <td>TOTAL</td>\n",
       "      <td>TOTAL</td>\n",
       "      <td>TOTAL</td>\n",
       "      <td>TOTAL</td>\n",
       "      <td>TOTAL</td>\n",
       "      <td>TOTAL</td>\n",
       "      <td>Mujeres</td>\n",
       "      <td>86250.0</td>\n",
       "    </tr>\n",
       "    <tr>\n",
       "      <th>3</th>\n",
       "      <td>2010</td>\n",
       "      <td>TOTAL</td>\n",
       "      <td>TOTAL</td>\n",
       "      <td>TOTAL</td>\n",
       "      <td>TOTAL</td>\n",
       "      <td>TOTAL</td>\n",
       "      <td>TOTAL</td>\n",
       "      <td>TOTAL</td>\n",
       "      <td>Indeterminado</td>\n",
       "      <td>10.0</td>\n",
       "    </tr>\n",
       "    <tr>\n",
       "      <th>4</th>\n",
       "      <td>2010</td>\n",
       "      <td>TOTAL</td>\n",
       "      <td>TOTAL</td>\n",
       "      <td>TOTAL</td>\n",
       "      <td>TOTAL</td>\n",
       "      <td>TOTAL</td>\n",
       "      <td>TOTAL</td>\n",
       "      <td>Menor 1 año</td>\n",
       "      <td>Hombres</td>\n",
       "      <td>4745.0</td>\n",
       "    </tr>\n",
       "  </tbody>\n",
       "</table>\n",
       "</div>"
      ],
      "text/plain": [
       "   anio codigo_depto nombre_depto nombre_muni codigo_muni codigo_evento  \\\n",
       "0  2010        TOTAL        TOTAL       TOTAL       TOTAL         TOTAL   \n",
       "1  2010        TOTAL        TOTAL       TOTAL       TOTAL         TOTAL   \n",
       "2  2010        TOTAL        TOTAL       TOTAL       TOTAL         TOTAL   \n",
       "3  2010        TOTAL        TOTAL       TOTAL       TOTAL         TOTAL   \n",
       "4  2010        TOTAL        TOTAL       TOTAL       TOTAL         TOTAL   \n",
       "\n",
       "  evento         edad           sexo  num_casos  \n",
       "0  TOTAL        TOTAL          TOTAL   200524.0  \n",
       "1  TOTAL        TOTAL        Hombres   114264.0  \n",
       "2  TOTAL        TOTAL        Mujeres    86250.0  \n",
       "3  TOTAL        TOTAL  Indeterminado       10.0  \n",
       "4  TOTAL  Menor 1 año        Hombres     4745.0  "
      ]
     },
     "execution_count": 4,
     "metadata": {},
     "output_type": "execute_result"
    }
   ],
   "source": [
    "df.head()"
   ]
  },
  {
   "cell_type": "code",
   "execution_count": 5,
   "metadata": {},
   "outputs": [],
   "source": [
    "df = df.drop(df[df['codigo_depto']=='TOTAL'].index)\r\n",
    "df = df.drop(df[df['nombre_depto']=='TOTAL'].index)\r\n",
    "df = df.drop(df[df['nombre_muni']=='TOTAL'].index)\r\n",
    "df = df.drop(df[df['codigo_muni']=='TOTAL'].index)\r\n",
    "df = df.drop(df[df['codigo_evento']=='TOTAL'].index)\r\n",
    "df = df.drop(df[df['evento']=='TOTAL'].index)\r\n",
    "df = df.drop(df[df['edad']=='TOTAL'].index)\r\n",
    "df = df.drop(df[df['sexo']=='TOTAL'].index)\r\n"
   ]
  },
  {
   "cell_type": "code",
   "execution_count": 6,
   "metadata": {},
   "outputs": [
    {
     "data": {
      "text/plain": [
       "anio             0\n",
       "codigo_depto     0\n",
       "nombre_depto     0\n",
       "nombre_muni      0\n",
       "codigo_muni      0\n",
       "codigo_evento    0\n",
       "evento           0\n",
       "edad             0\n",
       "sexo             0\n",
       "num_casos        0\n",
       "dtype: int64"
      ]
     },
     "execution_count": 6,
     "metadata": {},
     "output_type": "execute_result"
    }
   ],
   "source": [
    "df.isna().sum()"
   ]
  },
  {
   "cell_type": "code",
   "execution_count": 7,
   "metadata": {},
   "outputs": [
    {
     "data": {
      "text/html": [
       "<div>\n",
       "<style scoped>\n",
       "    .dataframe tbody tr th:only-of-type {\n",
       "        vertical-align: middle;\n",
       "    }\n",
       "\n",
       "    .dataframe tbody tr th {\n",
       "        vertical-align: top;\n",
       "    }\n",
       "\n",
       "    .dataframe thead th {\n",
       "        text-align: right;\n",
       "    }\n",
       "</style>\n",
       "<table border=\"1\" class=\"dataframe\">\n",
       "  <thead>\n",
       "    <tr style=\"text-align: right;\">\n",
       "      <th></th>\n",
       "      <th>anio</th>\n",
       "      <th>codigo_depto</th>\n",
       "      <th>nombre_depto</th>\n",
       "      <th>nombre_muni</th>\n",
       "      <th>codigo_muni</th>\n",
       "      <th>codigo_evento</th>\n",
       "      <th>evento</th>\n",
       "      <th>edad</th>\n",
       "      <th>sexo</th>\n",
       "      <th>num_casos</th>\n",
       "    </tr>\n",
       "  </thead>\n",
       "  <tbody>\n",
       "    <tr>\n",
       "      <th>1750</th>\n",
       "      <td>2010</td>\n",
       "      <td>05</td>\n",
       "      <td>Antioquia</td>\n",
       "      <td>Medellín</td>\n",
       "      <td>05001</td>\n",
       "      <td>101</td>\n",
       "      <td>ENFERMEDADES INFECCIOSAS INTESTINALES</td>\n",
       "      <td>De 15-44 años</td>\n",
       "      <td>Hombres</td>\n",
       "      <td>2.0</td>\n",
       "    </tr>\n",
       "    <tr>\n",
       "      <th>1751</th>\n",
       "      <td>2010</td>\n",
       "      <td>05</td>\n",
       "      <td>Antioquia</td>\n",
       "      <td>Medellín</td>\n",
       "      <td>05001</td>\n",
       "      <td>101</td>\n",
       "      <td>ENFERMEDADES INFECCIOSAS INTESTINALES</td>\n",
       "      <td>De 15-44 años</td>\n",
       "      <td>Mujeres</td>\n",
       "      <td>2.0</td>\n",
       "    </tr>\n",
       "    <tr>\n",
       "      <th>1752</th>\n",
       "      <td>2010</td>\n",
       "      <td>05</td>\n",
       "      <td>Antioquia</td>\n",
       "      <td>Medellín</td>\n",
       "      <td>05001</td>\n",
       "      <td>101</td>\n",
       "      <td>ENFERMEDADES INFECCIOSAS INTESTINALES</td>\n",
       "      <td>De 45-64 años</td>\n",
       "      <td>Hombres</td>\n",
       "      <td>7.0</td>\n",
       "    </tr>\n",
       "    <tr>\n",
       "      <th>1753</th>\n",
       "      <td>2010</td>\n",
       "      <td>05</td>\n",
       "      <td>Antioquia</td>\n",
       "      <td>Medellín</td>\n",
       "      <td>05001</td>\n",
       "      <td>101</td>\n",
       "      <td>ENFERMEDADES INFECCIOSAS INTESTINALES</td>\n",
       "      <td>De 45-64 años</td>\n",
       "      <td>Mujeres</td>\n",
       "      <td>5.0</td>\n",
       "    </tr>\n",
       "    <tr>\n",
       "      <th>1754</th>\n",
       "      <td>2010</td>\n",
       "      <td>05</td>\n",
       "      <td>Antioquia</td>\n",
       "      <td>Medellín</td>\n",
       "      <td>05001</td>\n",
       "      <td>101</td>\n",
       "      <td>ENFERMEDADES INFECCIOSAS INTESTINALES</td>\n",
       "      <td>De 65 y más</td>\n",
       "      <td>Hombres</td>\n",
       "      <td>12.0</td>\n",
       "    </tr>\n",
       "  </tbody>\n",
       "</table>\n",
       "</div>"
      ],
      "text/plain": [
       "      anio codigo_depto nombre_depto nombre_muni codigo_muni codigo_evento  \\\n",
       "1750  2010           05    Antioquia    Medellín       05001           101   \n",
       "1751  2010           05    Antioquia    Medellín       05001           101   \n",
       "1752  2010           05    Antioquia    Medellín       05001           101   \n",
       "1753  2010           05    Antioquia    Medellín       05001           101   \n",
       "1754  2010           05    Antioquia    Medellín       05001           101   \n",
       "\n",
       "                                     evento           edad     sexo  num_casos  \n",
       "1750  ENFERMEDADES INFECCIOSAS INTESTINALES  De 15-44 años  Hombres        2.0  \n",
       "1751  ENFERMEDADES INFECCIOSAS INTESTINALES  De 15-44 años  Mujeres        2.0  \n",
       "1752  ENFERMEDADES INFECCIOSAS INTESTINALES  De 45-64 años  Hombres        7.0  \n",
       "1753  ENFERMEDADES INFECCIOSAS INTESTINALES  De 45-64 años  Mujeres        5.0  \n",
       "1754  ENFERMEDADES INFECCIOSAS INTESTINALES    De 65 y más  Hombres       12.0  "
      ]
     },
     "execution_count": 7,
     "metadata": {},
     "output_type": "execute_result"
    }
   ],
   "source": [
    "df.head()"
   ]
  },
  {
   "cell_type": "code",
   "execution_count": 8,
   "metadata": {},
   "outputs": [
    {
     "data": {
      "text/plain": [
       "Hombres          255539\n",
       "Mujeres          209009\n",
       "Indeterminado        86\n",
       "Name: sexo, dtype: int64"
      ]
     },
     "execution_count": 8,
     "metadata": {},
     "output_type": "execute_result"
    }
   ],
   "source": [
    "df['sexo'].value_counts()"
   ]
  },
  {
   "cell_type": "code",
   "execution_count": 10,
   "metadata": {},
   "outputs": [
    {
     "data": {
      "text/plain": [
       "sexo\n",
       "Hombres          882382.0\n",
       "Indeterminado        99.0\n",
       "Mujeres          705439.0\n",
       "Name: num_casos, dtype: float64"
      ]
     },
     "execution_count": 10,
     "metadata": {},
     "output_type": "execute_result"
    }
   ],
   "source": [
    "df.groupby(by='sexo')['num_casos'].sum()"
   ]
  },
  {
   "cell_type": "code",
   "execution_count": 16,
   "metadata": {},
   "outputs": [
    {
     "data": {
      "text/plain": [
       "evento\n",
       "PARO CARDIACO                                                148.0\n",
       "ENF. HEMOLITICA DEL FETO Y DEL RECIEN N. Y KERNICTERUS       168.0\n",
       "INFECC. CON MODO DE TRANSM. PREDOM./. SEXUAL                 267.0\n",
       "ACC. CAUSADOS POR DISPARO DE ARMAS DE FUEGO                  305.0\n",
       "OTRAS ENF. DE LAS VIAS RESPIRATORIAS SUPERIORES              331.0\n",
       "                                                            ...   \n",
       "INFECCIONES RESPIRATORIAS AGUDAS                           58854.0\n",
       "ENF. CRONICAS VIAS REPIRATORIAS INFERIORES                 95221.0\n",
       "AGRESIONES (HOMICIDIOS), INCLUSIVE SECUELAS               100943.0\n",
       "ENFERMEDADES CEREBROVASCULARES                            109875.0\n",
       "ENFERMEDADES ISQUEMICAS DEL CORAZON                       256804.0\n",
       "Name: num_casos, Length: 72, dtype: float64"
      ]
     },
     "execution_count": 16,
     "metadata": {},
     "output_type": "execute_result"
    }
   ],
   "source": [
    "df.groupby(by='evento')['num_casos'].sum().sort_values()"
   ]
  },
  {
   "cell_type": "code",
   "execution_count": 21,
   "metadata": {},
   "outputs": [
    {
     "data": {
      "text/plain": [
       "AGRESIONES (HOMICIDIOS), INCLUSIVE SECUELAS                        31\n",
       "SINTOMAS, SIGNOS Y AFECCIONES MAL DEFINIDAS                        19\n",
       "EVENTOS DE INTENCION NO DETERMINADA, INCL. SECUELAS                 7\n",
       "OTRAS AFECC. ORIGINADAS EN PERIODO PERINATAL                        5\n",
       "MALFORMACIONES CONGEN., DEFORMID.Y ANOMALIAS CROMOSOMICAS           4\n",
       "INTERVENCION LEGAL Y OPERAC. DE GUERRA, INCL. SECUELAS              4\n",
       "ACC. TRANSPORTE TERRESTRE, INCLUSIVE SECUELAS                       3\n",
       "TRAST. RESPIRATORIOS ESPECIFICOS DEL PERIODO PERINATAL              3\n",
       "OTROS ACCIDENTES, INCLUSIVE SECUELAS                                2\n",
       "FETO Y RECIEN N. AFECTADOS POR COMPL. OBST. Y TRAUM. NACIMIENTO     2\n",
       "ENF. HEMOLITICA DEL FETO Y DEL RECIEN N. Y KERNICTERUS              1\n",
       "ENFERMEDADES ISQUEMICAS DEL CORAZON                                 1\n",
       "DEFICIENCIAS NUTRICIONALES Y ANEMIAS NUTRICIONALES                  1\n",
       "AHOGAMIENTO Y SUMERSION ACCIDENTALES                                1\n",
       "LESIONES AUTOINFLIGIDAS INTENC.(SUICIDIOS), INCL. SECUELAS          1\n",
       "INFECC. CON MODO DE TRANSM. PREDOM./. SEXUAL                        1\n",
       "Name: evento, dtype: int64"
      ]
     },
     "execution_count": 21,
     "metadata": {},
     "output_type": "execute_result"
    }
   ],
   "source": [
    "df.loc[df['sexo']=='Indeterminado']['evento'].value_counts()"
   ]
  },
  {
   "cell_type": "code",
   "execution_count": 22,
   "metadata": {},
   "outputs": [
    {
     "data": {
      "text/plain": [
       "edad\n",
       "Edad desconocida      1647.0\n",
       "De 100 y más          3868.0\n",
       "De 1-4 años          12292.0\n",
       "De 5-14 años         15894.0\n",
       "Menor 1 año          58835.0\n",
       "De 85-99 años       126621.0\n",
       "De 15-44 años       232707.0\n",
       "De 65-84 años       243131.0\n",
       "De 45-64 años       307836.0\n",
       "De 65 y más         585089.0\n",
       "Name: num_casos, dtype: float64"
      ]
     },
     "execution_count": 22,
     "metadata": {},
     "output_type": "execute_result"
    }
   ],
   "source": [
    "df.groupby(by='edad')['num_casos'].sum().sort_values()"
   ]
  },
  {
   "cell_type": "code",
   "execution_count": 23,
   "metadata": {},
   "outputs": [
    {
     "data": {
      "text/plain": [
       "nombre_depto\n",
       "Guainía                                        791.0\n",
       "Vaupés                                         796.0\n",
       "Vichada                                       1304.0\n",
       "Amazonas                                      1507.0\n",
       "Archipiélago de San Andrés y Providencia      1903.0\n",
       "Guaviare                                      2078.0\n",
       "Extranjeros                                   2655.0\n",
       "Arauca                                        7597.0\n",
       "Putumayo                                      7962.0\n",
       "Casanare                                      9397.0\n",
       "Chocó                                         9775.0\n",
       "Caquetá                                      12987.0\n",
       "La Guajira                                   13830.0\n",
       "Sucre                                        23961.0\n",
       "Quindío                                      26828.0\n",
       "Cesar                                        28749.0\n",
       "Meta                                         33229.0\n",
       "Magdalena                                    36571.0\n",
       "Huila                                        39584.0\n",
       "Cauca                                        40272.0\n",
       "Risaralda                                    41900.0\n",
       "Caldas                                       44267.0\n",
       "Córdoba                                      46514.0\n",
       "Boyacá                                       48935.0\n",
       "Nariño                                       49618.0\n",
       "Norte de Santander                           50620.0\n",
       "Bolívar                                      53125.0\n",
       "Tolima                                       61090.0\n",
       "Santander                                    76347.0\n",
       "Atlántico                                    77816.0\n",
       "Cundinamarca                                 89760.0\n",
       "Valle del Cauca                             189091.0\n",
       "Bogotá                                      228495.0\n",
       "Antioquia                                   228566.0\n",
       "Name: num_casos, dtype: float64"
      ]
     },
     "execution_count": 23,
     "metadata": {},
     "output_type": "execute_result"
    }
   ],
   "source": [
    "df.groupby(by='nombre_depto')['num_casos'].sum().sort_values()"
   ]
  }
 ],
 "metadata": {
  "interpreter": {
   "hash": "b3ba2566441a7c06988d0923437866b63cedc61552a5af99d1f4fb67d367b25f"
  },
  "kernelspec": {
   "display_name": "Python 3.8.8 64-bit ('ProgramData': virtualenv)",
   "name": "python3"
  },
  "language_info": {
   "codemirror_mode": {
    "name": "ipython",
    "version": 3
   },
   "file_extension": ".py",
   "mimetype": "text/x-python",
   "name": "python",
   "nbconvert_exporter": "python",
   "pygments_lexer": "ipython3",
   "version": "3.8.8"
  },
  "orig_nbformat": 4
 },
 "nbformat": 4,
 "nbformat_minor": 2
}